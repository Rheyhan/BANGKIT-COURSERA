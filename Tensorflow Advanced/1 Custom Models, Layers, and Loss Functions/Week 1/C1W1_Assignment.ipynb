{
 "cells": [
  {
   "cell_type": "markdown",
   "metadata": {
    "colab_type": "text",
    "id": "ZL_6GK8qX35J"
   },
   "source": [
    "\n",
    "\n",
    "# Week 1: Multiple Output Models using the Keras Functional API\n",
    "\n",
    "Welcome to the first programming assignment of the course! Your task will be to use the Keras functional API to train a model to predict two outputs. For this lab, you will use the **[Wine Quality Dataset](https://archive.ics.uci.edu/ml/datasets/Wine+Quality)** from the **UCI machine learning repository**. It has separate datasets for red wine and white wine.\n",
    "\n",
    "Normally, the wines are classified into one of the quality ratings specified in the attributes. In this exercise, you will combine the two datasets to predict the wine quality and whether the wine is red or white solely from the attributes. \n",
    "\n",
    "You will model wine quality estimations as a regression problem and wine type detection as a binary classification problem.\n",
    "\n",
    "#### Please complete sections that are marked **(TODO)**"
   ]
  },
  {
   "cell_type": "markdown",
   "metadata": {
    "colab_type": "text",
    "id": "obdcD6urYBY9"
   },
   "source": [
    "## Imports"
   ]
  },
  {
   "cell_type": "code",
   "execution_count": 1,
   "metadata": {
    "colab": {},
    "colab_type": "code",
    "id": "t8N3pcTQ5oQI"
   },
   "outputs": [],
   "source": [
    "import tensorflow as tf\n",
    "from tensorflow.keras.models import Model\n",
    "from tensorflow.keras.layers import Dense, Input\n",
    "\n",
    "import numpy as np\n",
    "import matplotlib.pyplot as plt\n",
    "import pandas as pd\n",
    "from sklearn.model_selection import train_test_split\n",
    "from sklearn.metrics import confusion_matrix, ConfusionMatrixDisplay\n",
    "import itertools\n",
    "\n",
    "import utils"
   ]
  },
  {
   "cell_type": "markdown",
   "metadata": {
    "colab_type": "text",
    "id": "gQMERzWQYpgm"
   },
   "source": [
    "## Load Dataset\n",
    "\n",
    "\n",
    "You will now load the dataset from the [UCI Machine Learning Repository](https://archive.ics.uci.edu/ml/index.php) which are **already saved** in your workspace (*Note: For successful grading, please **do not** modify the default string set to the `URI` variable below*).\n",
    "\n",
    "### Pre-process the white wine dataset (TODO)\n",
    "You will add a new column named `is_red` in your dataframe to indicate if the wine is white or red. \n",
    "- In the white wine dataset, you will fill the column `is_red` with  zeros (0)."
   ]
  },
  {
   "cell_type": "code",
   "execution_count": 2,
   "metadata": {
    "colab": {},
    "colab_type": "code",
    "deletable": false,
    "id": "2qYAjKXCd4RH",
    "nbgrader": {
     "cell_type": "code",
     "checksum": "325ea195519b7035934c95bb529a062c",
     "grade": false,
     "grade_id": "cell-e5bfa0f152d9a21f",
     "locked": false,
     "schema_version": 3,
     "solution": true,
     "task": false
    }
   },
   "outputs": [],
   "source": [
    "# Please uncomment all lines in this cell and replace those marked with `# YOUR CODE HERE`.\n",
    "# You can select all lines in this code cell with Ctrl+A (Windows/Linux) or Cmd+A (Mac), then press Ctrl+/ (Windows/Linux) or Cmd+/ (Mac) to uncomment.\n",
    "\n",
    "\n",
    "\n",
    "# URL of the white wine dataset\n",
    "URL = \"./winequality-white.csv\"\n",
    "\n",
    "# load the dataset from the URL\n",
    "white_df = pd.read_csv(URL, sep=\";\")\n",
    "\n",
    "# fill the `is_red` column with zeros.\n",
    "white_df[\"is_red\"] = 0\n",
    "\n",
    "# keep only the first of duplicate items\n",
    "white_df = white_df.drop_duplicates(keep='first')\n"
   ]
  },
  {
   "cell_type": "code",
   "execution_count": 3,
   "metadata": {
    "deletable": false,
    "editable": false,
    "nbgrader": {
     "cell_type": "code",
     "checksum": "defe38d6ec58fd31cd67b89e46c4373f",
     "grade": true,
     "grade_id": "cell-30575e713b55fc51",
     "locked": true,
     "points": 1,
     "schema_version": 3,
     "solution": false,
     "task": false
    }
   },
   "outputs": [
    {
     "name": "stdout",
     "output_type": "stream",
     "text": [
      "\u001b[92m All public tests passed\n"
     ]
    }
   ],
   "source": [
    "# You can click `File -> Open` in the menu above and open the `utils.py` file \n",
    "# in case you want to inspect the unit tests being used for each graded function.\n",
    "\n",
    "utils.test_white_df(white_df)\n"
   ]
  },
  {
   "cell_type": "code",
   "execution_count": 46,
   "metadata": {
    "colab": {},
    "colab_type": "code",
    "id": "OQHK0ohBQRCk"
   },
   "outputs": [
    {
     "name": "stdout",
     "output_type": "stream",
     "text": [
      "8.8\n",
      "9.1\n"
     ]
    }
   ],
   "source": [
    "print(white_df.alcohol[0])\n",
    "print(white_df.alcohol[100])\n",
    "\n",
    "# EXPECTED OUTPUT\n",
    "# 8.8\n",
    "# 9.1"
   ]
  },
  {
   "cell_type": "markdown",
   "metadata": {},
   "source": [
    "### Pre-process the red wine dataset (TODO)\n",
    "- In the red wine dataset, you will fill in the column `is_red` with ones (1)."
   ]
  },
  {
   "cell_type": "code",
   "execution_count": 47,
   "metadata": {
    "colab": {},
    "colab_type": "code",
    "deletable": false,
    "id": "8y3QxKwBed8v",
    "nbgrader": {
     "cell_type": "code",
     "checksum": "12e0963d15be33b01b4e6ebc8945e51e",
     "grade": false,
     "grade_id": "cell-e47a40f306593274",
     "locked": false,
     "schema_version": 3,
     "solution": true,
     "task": false
    }
   },
   "outputs": [],
   "source": [
    "# Please uncomment all lines in this cell and replace those marked with `# YOUR CODE HERE`.\n",
    "# You can select all lines in this code cell with Ctrl+A (Windows/Linux) or Cmd+A (Mac), then press Ctrl+/ (Windows/Linux) or Cmd+/ (Mac) to uncomment.\n",
    "\n",
    "\n",
    "\n",
    "# URL of the red wine dataset\n",
    "URL = \"./winequality-red.csv\"\n",
    "\n",
    "# load the dataset from the URL\n",
    "red_df = pd.read_csv(URL, sep=\";\")\n",
    "\n",
    "# fill the `is_red` column with ones.\n",
    "red_df[\"is_red\"] = 1\n",
    "\n",
    "# keep only the first of duplicate items\n",
    "red_df = red_df.drop_duplicates(keep='first')\n"
   ]
  },
  {
   "cell_type": "code",
   "execution_count": 48,
   "metadata": {
    "deletable": false,
    "editable": false,
    "nbgrader": {
     "cell_type": "code",
     "checksum": "d8e0c91b0fd668b63ba74a8f2f958b59",
     "grade": true,
     "grade_id": "cell-2a75937adcc0c25b",
     "locked": true,
     "points": 1,
     "schema_version": 3,
     "solution": false,
     "task": false
    }
   },
   "outputs": [
    {
     "name": "stdout",
     "output_type": "stream",
     "text": [
      "\u001b[92m All public tests passed\n"
     ]
    }
   ],
   "source": [
    "utils.test_red_df(red_df)\n"
   ]
  },
  {
   "cell_type": "code",
   "execution_count": 49,
   "metadata": {
    "colab": {},
    "colab_type": "code",
    "id": "zsB3LUzNQpo_"
   },
   "outputs": [
    {
     "name": "stdout",
     "output_type": "stream",
     "text": [
      "9.4\n",
      "10.2\n"
     ]
    }
   ],
   "source": [
    "print(red_df.alcohol[0])\n",
    "print(red_df.alcohol[100])\n",
    "\n",
    "# EXPECTED OUTPUT\n",
    "# 9.4\n",
    "# 10.2"
   ]
  },
  {
   "cell_type": "markdown",
   "metadata": {
    "colab_type": "text",
    "id": "2G8B-NYuM6-f"
   },
   "source": [
    "### Concatenate the datasets\n",
    "\n",
    "Next, concatenate the red and white wine dataframes."
   ]
  },
  {
   "cell_type": "code",
   "execution_count": 8,
   "metadata": {
    "colab": {},
    "colab_type": "code",
    "id": "YpQrOjJbfN3m"
   },
   "outputs": [],
   "source": [
    "df = pd.concat([red_df, white_df], ignore_index=True)"
   ]
  },
  {
   "cell_type": "code",
   "execution_count": 9,
   "metadata": {
    "colab": {},
    "colab_type": "code",
    "id": "Se2dTmThQyjb"
   },
   "outputs": [
    {
     "name": "stdout",
     "output_type": "stream",
     "text": [
      "9.4\n",
      "9.5\n"
     ]
    }
   ],
   "source": [
    "print(df.alcohol[0])\n",
    "print(df.alcohol[100])\n",
    "\n",
    "# EXPECTED OUTPUT\n",
    "# 9.4\n",
    "# 9.5"
   ]
  },
  {
   "cell_type": "markdown",
   "metadata": {},
   "source": [
    "In a real-world scenario, you should shuffle the data. For this assignment however, **you are not** going to do that because the grader needs to test with deterministic data. If you want the code to do it **after** you've gotten your grade for this notebook, we left the commented line below for reference"
   ]
  },
  {
   "cell_type": "code",
   "execution_count": 10,
   "metadata": {
    "colab": {},
    "colab_type": "code",
    "id": "wx6y3rPpQv4k"
   },
   "outputs": [],
   "source": [
    "df = pd.concat([red_df, white_df], ignore_index=True)"
   ]
  },
  {
   "cell_type": "markdown",
   "metadata": {
    "colab_type": "text",
    "id": "-EqIcbg5M_n1"
   },
   "source": [
    "This will chart the quality of the wines."
   ]
  },
  {
   "cell_type": "code",
   "execution_count": 50,
   "metadata": {
    "colab": {},
    "colab_type": "code",
    "id": "IsvK0-Sgy17C"
   },
   "outputs": [
    {
     "data": {
      "image/png": "[encoded data removed]",
      "text/plain": [
       "<Figure size 432x288 with 1 Axes>"
      ]
     },
     "metadata": {
      "needs_background": "light"
     },
     "output_type": "display_data"
    }
   ],
   "source": [
    "df['quality'].hist(bins=20);"
   ]
  },
  {
   "cell_type": "markdown",
   "metadata": {
    "colab_type": "text",
    "id": "Nut1rmYLzf-p"
   },
   "source": [
    "### Imbalanced data (TODO)\n",
    "You can see from the plot above that the wine quality dataset is imbalanced. \n",
    "- Since there are very few observations with quality equal to 3, 4, 8 and 9, you can drop these observations from your dataset. \n",
    "- You can do this by removing data belonging to all classes except those > 4 and < 8."
   ]
  },
  {
   "cell_type": "code",
   "execution_count": 51,
   "metadata": {
    "colab": {},
    "colab_type": "code",
    "deletable": false,
    "id": "doH9_-gnf3sz",
    "nbgrader": {
     "cell_type": "code",
     "checksum": "d9ba9fc3a3ca02ccc567be33652b80fe",
     "grade": false,
     "grade_id": "cell-6a3e9db696f6827b",
     "locked": false,
     "schema_version": 3,
     "solution": true,
     "task": false
    }
   },
   "outputs": [],
   "source": [
    "# Please uncomment all lines in this cell and replace those marked with `# YOUR CODE HERE`.\n",
    "# You can select all lines in this code cell with Ctrl+A (Windows/Linux) or Cmd+A (Mac), then press Ctrl+/ (Windows/Linux) or Cmd+/ (Mac) to uncomment.\n",
    "\n",
    "\n",
    "\n",
    "# get data with wine quality greater than 4 and less than 8\n",
    "df = df[(df['quality'] > 4) & (df['quality'] < 8 )]\n",
    "\n",
    "# reset index and drop the old one\n",
    "df = df.reset_index(drop=True)"
   ]
  },
  {
   "cell_type": "code",
   "execution_count": 52,
   "metadata": {
    "deletable": false,
    "editable": false,
    "nbgrader": {
     "cell_type": "code",
     "checksum": "281e1d86a4803560ed5892cd7eda4c01",
     "grade": true,
     "grade_id": "cell-aed3da719d4682c7",
     "locked": true,
     "points": 1,
     "schema_version": 3,
     "solution": false,
     "task": false
    }
   },
   "outputs": [
    {
     "name": "stdout",
     "output_type": "stream",
     "text": [
      "\u001b[92m All public tests passed\n"
     ]
    }
   ],
   "source": [
    "utils.test_df_drop(df)\n",
    "\n"
   ]
  },
  {
   "cell_type": "code",
   "execution_count": 53,
   "metadata": {
    "colab": {},
    "colab_type": "code",
    "id": "xNR1iAlMRPXO"
   },
   "outputs": [
    {
     "name": "stdout",
     "output_type": "stream",
     "text": [
      "9.4\n",
      "10.9\n"
     ]
    }
   ],
   "source": [
    "print(df.alcohol[0])\n",
    "print(df.alcohol[100])\n",
    "\n",
    "# EXPECTED OUTPUT\n",
    "# 9.4\n",
    "# 10.9"
   ]
  },
  {
   "cell_type": "markdown",
   "metadata": {
    "colab_type": "text",
    "id": "cwhuRpnVRTzG"
   },
   "source": [
    "You can plot again to see the new range of data and quality"
   ]
  },
  {
   "cell_type": "code",
   "execution_count": 15,
   "metadata": {
    "colab": {},
    "colab_type": "code",
    "id": "857ygzZiLgGg"
   },
   "outputs": [
    {
     "data": {
      "image/png": "[encoded data removed]",
      "text/plain": [
       "<Figure size 432x288 with 1 Axes>"
      ]
     },
     "metadata": {
      "needs_background": "light"
     },
     "output_type": "display_data"
    }
   ],
   "source": [
    "df['quality'].hist(bins=20);"
   ]
  },
  {
   "cell_type": "markdown",
   "metadata": {
    "colab_type": "text",
    "id": "n3k0vqSsp84t"
   },
   "source": [
    "### Train Test Split (TODO)\n",
    "\n",
    "Next, you can split the datasets into training, test and validation datasets.\n",
    "- The data frame should be split 80:20 into `train` and `test` sets.\n",
    "- The resulting `train` should then be split 80:20 into `train` and `val` sets.\n",
    "- The `train_test_split` parameter `test_size` takes a float value that ranges between 0. and 1, and represents the proportion of the dataset that is allocated to the test set.  The rest of the data is allocated to the training set."
   ]
  },
  {
   "cell_type": "code",
   "execution_count": 16,
   "metadata": {
    "colab": {},
    "colab_type": "code",
    "deletable": false,
    "id": "PAVIf2-fgRVY",
    "nbgrader": {
     "cell_type": "code",
     "checksum": "7f5738f4fb51d65adc9a8acbdf2b9970",
     "grade": false,
     "grade_id": "cell-91946cadf745206b",
     "locked": false,
     "schema_version": 3,
     "solution": true,
     "task": false
    }
   },
   "outputs": [],
   "source": [
    "# Please uncomment all lines in this cell and replace those marked with `# YOUR CODE HERE`.\n",
    "# You can select all lines in this code cell with Ctrl+A (Windows/Linux) or Cmd+A (Mac), then press Ctrl+/ (Windows/Linux) or Cmd+/ (Mac) to uncomment.\n",
    "\n",
    "\n",
    "\n",
    "# Please do not change the random_state parameter. This is needed for grading.\n",
    "\n",
    "# split df into 80:20 train and test sets\n",
    "train, test = train_test_split(df, test_size=.2, random_state = 1)\n",
    "                               \n",
    "# split train into 80:20 train and val sets\n",
    "train, val = train_test_split(train, test_size=.2, random_state = 1)"
   ]
  },
  {
   "cell_type": "code",
   "execution_count": 17,
   "metadata": {
    "colab": {},
    "colab_type": "code",
    "deletable": false,
    "editable": false,
    "id": "57h9LcEzRWpk",
    "nbgrader": {
     "cell_type": "code",
     "checksum": "42adbe9e66efac7c7a5f8cd73ac92f22",
     "grade": true,
     "grade_id": "cell-64b8b38cd0b965f6",
     "locked": true,
     "points": 1,
     "schema_version": 3,
     "solution": false,
     "task": false
    }
   },
   "outputs": [
    {
     "name": "stdout",
     "output_type": "stream",
     "text": [
      "\u001b[92m All public tests passed\n"
     ]
    }
   ],
   "source": [
    "utils.test_data_sizes(train.size, test.size, val.size)\n",
    "\n"
   ]
  },
  {
   "cell_type": "markdown",
   "metadata": {
    "colab_type": "text",
    "id": "RwTNu4KFqG-K"
   },
   "source": [
    "Here's where you can explore the training stats. You can pop the labels 'is_red' and 'quality' from the data as these will be used as the labels\n"
   ]
  },
  {
   "cell_type": "code",
   "execution_count": 18,
   "metadata": {
    "colab": {},
    "colab_type": "code",
    "id": "Y_afyhhHM6WQ"
   },
   "outputs": [],
   "source": [
    "train_stats = train.describe()\n",
    "train_stats.pop('is_red')\n",
    "train_stats.pop('quality')\n",
    "train_stats = train_stats.transpose()"
   ]
  },
  {
   "cell_type": "markdown",
   "metadata": {
    "colab_type": "text",
    "id": "ahvbYm4fNqSt"
   },
   "source": [
    "Explore the training stats!"
   ]
  },
  {
   "cell_type": "code",
   "execution_count": 19,
   "metadata": {
    "colab": {},
    "colab_type": "code",
    "id": "n_gAtPjZ0otF"
   },
   "outputs": [
    {
     "data": {
      "text/html": [
       "<div>\n",
       "<style scoped>\n",
       "    .dataframe tbody tr th:only-of-type {\n",
       "        vertical-align: middle;\n",
       "    }\n",
       "\n",
       "    .dataframe tbody tr th {\n",
       "        vertical-align: top;\n",
       "    }\n",
       "\n",
       "    .dataframe thead th {\n",
       "        text-align: right;\n",
       "    }\n",
       "</style>\n",
       "<table border=\"1\" class=\"dataframe\">\n",
       "  <thead>\n",
       "    <tr style=\"text-align: right;\">\n",
       "      <th></th>\n",
       "      <th>count</th>\n",
       "      <th>mean</th>\n",
       "      <th>std</th>\n",
       "      <th>min</th>\n",
       "      <th>25%</th>\n",
       "      <th>50%</th>\n",
       "      <th>75%</th>\n",
       "      <th>max</th>\n",
       "    </tr>\n",
       "  </thead>\n",
       "  <tbody>\n",
       "    <tr>\n",
       "      <th>fixed acidity</th>\n",
       "      <td>3155.0</td>\n",
       "      <td>7.221616</td>\n",
       "      <td>1.325297</td>\n",
       "      <td>3.80000</td>\n",
       "      <td>6.40000</td>\n",
       "      <td>7.00000</td>\n",
       "      <td>7.7000</td>\n",
       "      <td>15.60000</td>\n",
       "    </tr>\n",
       "    <tr>\n",
       "      <th>volatile acidity</th>\n",
       "      <td>3155.0</td>\n",
       "      <td>0.338929</td>\n",
       "      <td>0.162476</td>\n",
       "      <td>0.08000</td>\n",
       "      <td>0.23000</td>\n",
       "      <td>0.29000</td>\n",
       "      <td>0.4000</td>\n",
       "      <td>1.24000</td>\n",
       "    </tr>\n",
       "    <tr>\n",
       "      <th>citric acid</th>\n",
       "      <td>3155.0</td>\n",
       "      <td>0.321569</td>\n",
       "      <td>0.147970</td>\n",
       "      <td>0.00000</td>\n",
       "      <td>0.25000</td>\n",
       "      <td>0.31000</td>\n",
       "      <td>0.4000</td>\n",
       "      <td>1.66000</td>\n",
       "    </tr>\n",
       "    <tr>\n",
       "      <th>residual sugar</th>\n",
       "      <td>3155.0</td>\n",
       "      <td>5.155911</td>\n",
       "      <td>4.639632</td>\n",
       "      <td>0.60000</td>\n",
       "      <td>1.80000</td>\n",
       "      <td>2.80000</td>\n",
       "      <td>7.6500</td>\n",
       "      <td>65.80000</td>\n",
       "    </tr>\n",
       "    <tr>\n",
       "      <th>chlorides</th>\n",
       "      <td>3155.0</td>\n",
       "      <td>0.056976</td>\n",
       "      <td>0.036802</td>\n",
       "      <td>0.01200</td>\n",
       "      <td>0.03800</td>\n",
       "      <td>0.04700</td>\n",
       "      <td>0.0660</td>\n",
       "      <td>0.61100</td>\n",
       "    </tr>\n",
       "    <tr>\n",
       "      <th>free sulfur dioxide</th>\n",
       "      <td>3155.0</td>\n",
       "      <td>30.388590</td>\n",
       "      <td>17.236784</td>\n",
       "      <td>1.00000</td>\n",
       "      <td>17.00000</td>\n",
       "      <td>28.00000</td>\n",
       "      <td>41.0000</td>\n",
       "      <td>131.00000</td>\n",
       "    </tr>\n",
       "    <tr>\n",
       "      <th>total sulfur dioxide</th>\n",
       "      <td>3155.0</td>\n",
       "      <td>115.062282</td>\n",
       "      <td>56.706617</td>\n",
       "      <td>6.00000</td>\n",
       "      <td>75.00000</td>\n",
       "      <td>117.00000</td>\n",
       "      <td>156.0000</td>\n",
       "      <td>344.00000</td>\n",
       "    </tr>\n",
       "    <tr>\n",
       "      <th>density</th>\n",
       "      <td>3155.0</td>\n",
       "      <td>0.994633</td>\n",
       "      <td>0.003005</td>\n",
       "      <td>0.98711</td>\n",
       "      <td>0.99232</td>\n",
       "      <td>0.99481</td>\n",
       "      <td>0.9968</td>\n",
       "      <td>1.03898</td>\n",
       "    </tr>\n",
       "    <tr>\n",
       "      <th>pH</th>\n",
       "      <td>3155.0</td>\n",
       "      <td>3.223201</td>\n",
       "      <td>0.161272</td>\n",
       "      <td>2.72000</td>\n",
       "      <td>3.11000</td>\n",
       "      <td>3.21000</td>\n",
       "      <td>3.3300</td>\n",
       "      <td>4.01000</td>\n",
       "    </tr>\n",
       "    <tr>\n",
       "      <th>sulphates</th>\n",
       "      <td>3155.0</td>\n",
       "      <td>0.534051</td>\n",
       "      <td>0.149149</td>\n",
       "      <td>0.22000</td>\n",
       "      <td>0.43000</td>\n",
       "      <td>0.51000</td>\n",
       "      <td>0.6000</td>\n",
       "      <td>1.95000</td>\n",
       "    </tr>\n",
       "    <tr>\n",
       "      <th>alcohol</th>\n",
       "      <td>3155.0</td>\n",
       "      <td>10.504466</td>\n",
       "      <td>1.154654</td>\n",
       "      <td>8.50000</td>\n",
       "      <td>9.50000</td>\n",
       "      <td>10.30000</td>\n",
       "      <td>11.3000</td>\n",
       "      <td>14.00000</td>\n",
       "    </tr>\n",
       "  </tbody>\n",
       "</table>\n",
       "</div>"
      ],
      "text/plain": [
       "                       count        mean        std      min       25%  \\\n",
       "fixed acidity         3155.0    7.221616   1.325297  3.80000   6.40000   \n",
       "volatile acidity      3155.0    0.338929   0.162476  0.08000   0.23000   \n",
       "citric acid           3155.0    0.321569   0.147970  0.00000   0.25000   \n",
       "residual sugar        3155.0    5.155911   4.639632  0.60000   1.80000   \n",
       "chlorides             3155.0    0.056976   0.036802  0.01200   0.03800   \n",
       "free sulfur dioxide   3155.0   30.388590  17.236784  1.00000  17.00000   \n",
       "total sulfur dioxide  3155.0  115.062282  56.706617  6.00000  75.00000   \n",
       "density               3155.0    0.994633   0.003005  0.98711   0.99232   \n",
       "pH                    3155.0    3.223201   0.161272  2.72000   3.11000   \n",
       "sulphates             3155.0    0.534051   0.149149  0.22000   0.43000   \n",
       "alcohol               3155.0   10.504466   1.154654  8.50000   9.50000   \n",
       "\n",
       "                            50%       75%        max  \n",
       "fixed acidity           7.00000    7.7000   15.60000  \n",
       "volatile acidity        0.29000    0.4000    1.24000  \n",
       "citric acid             0.31000    0.4000    1.66000  \n",
       "residual sugar          2.80000    7.6500   65.80000  \n",
       "chlorides               0.04700    0.0660    0.61100  \n",
       "free sulfur dioxide    28.00000   41.0000  131.00000  \n",
       "total sulfur dioxide  117.00000  156.0000  344.00000  \n",
       "density                 0.99481    0.9968    1.03898  \n",
       "pH                      3.21000    3.3300    4.01000  \n",
       "sulphates               0.51000    0.6000    1.95000  \n",
       "alcohol                10.30000   11.3000   14.00000  "
      ]
     },
     "execution_count": 19,
     "metadata": {},
     "output_type": "execute_result"
    }
   ],
   "source": [
    "train_stats"
   ]
  },
  {
   "cell_type": "markdown",
   "metadata": {
    "colab_type": "text",
    "id": "bGPvt9jir_HC"
   },
   "source": [
    "### Get the labels (TODO)\n",
    "\n",
    "The features and labels are currently in the same dataframe.\n",
    "- You will want to store the label columns `is_red` and `quality` separately from the feature columns.  \n",
    "- The following function, `format_output`, gets these two columns from the dataframe (it's given to you).\n",
    "- `format_output` also formats the data into numpy arrays. \n",
    "- Please use the `format_output` and apply it to the `train`, `val` and `test` sets to get dataframes for the labels."
   ]
  },
  {
   "cell_type": "code",
   "execution_count": 20,
   "metadata": {
    "colab": {},
    "colab_type": "code",
    "id": "Z_fs14XQqZVP"
   },
   "outputs": [],
   "source": [
    "def format_output(data):\n",
    "    is_red = data.pop('is_red')\n",
    "    is_red = np.array(is_red)\n",
    "    quality = data.pop('quality')\n",
    "    quality = np.array(quality)\n",
    "    return (quality, is_red)"
   ]
  },
  {
   "cell_type": "code",
   "execution_count": 21,
   "metadata": {
    "colab": {},
    "colab_type": "code",
    "deletable": false,
    "id": "8L3ZZe1fQicm",
    "nbgrader": {
     "cell_type": "code",
     "checksum": "7a86809e54895a816434c48dc903f55d",
     "grade": false,
     "grade_id": "cell-5c30fa2c2a354b0f",
     "locked": false,
     "schema_version": 3,
     "solution": true,
     "task": false
    }
   },
   "outputs": [],
   "source": [
    "# Please uncomment all lines in this cell and replace those marked with `# YOUR CODE HERE`.\n",
    "# You can select all lines in this code cell with Ctrl+A (Windows/Linux) or Cmd+A (Mac), then press Ctrl+/ (Windows/Linux) or Cmd+/ (Mac) to uncomment.\n",
    "\n",
    "\n",
    "\n",
    "# format the output of the train set\n",
    "train_Y = format_output(train)\n",
    "\n",
    "# format the output of the val set\n",
    "val_Y = format_output(val)\n",
    "    \n",
    "# format the output of the test set\n",
    "test_Y = format_output(test)"
   ]
  },
  {
   "cell_type": "code",
   "execution_count": 22,
   "metadata": {
    "deletable": false,
    "editable": false,
    "nbgrader": {
     "cell_type": "code",
     "checksum": "359cabbafaed14ec9bbc1e57a7b6f32c",
     "grade": true,
     "grade_id": "cell-4977d8befb80f56b",
     "locked": true,
     "points": 1,
     "schema_version": 3,
     "solution": false,
     "task": false
    }
   },
   "outputs": [
    {
     "name": "stdout",
     "output_type": "stream",
     "text": [
      "\u001b[92m All public tests passed\n"
     ]
    }
   ],
   "source": [
    "utils.test_format_output(df, train_Y, val_Y, test_Y)"
   ]
  },
  {
   "cell_type": "markdown",
   "metadata": {},
   "source": [
    "Notice that after you get the labels, the `train`, `val` and `test` dataframes no longer contain the label columns, and contain just the feature columns.\n",
    "- This is because you used `.pop` in the `format_output` function."
   ]
  },
  {
   "cell_type": "code",
   "execution_count": 23,
   "metadata": {},
   "outputs": [
    {
     "data": {
      "text/html": [
       "<div>\n",
       "<style scoped>\n",
       "    .dataframe tbody tr th:only-of-type {\n",
       "        vertical-align: middle;\n",
       "    }\n",
       "\n",
       "    .dataframe tbody tr th {\n",
       "        vertical-align: top;\n",
       "    }\n",
       "\n",
       "    .dataframe thead th {\n",
       "        text-align: right;\n",
       "    }\n",
       "</style>\n",
       "<table border=\"1\" class=\"dataframe\">\n",
       "  <thead>\n",
       "    <tr style=\"text-align: right;\">\n",
       "      <th></th>\n",
       "      <th>fixed acidity</th>\n",
       "      <th>volatile acidity</th>\n",
       "      <th>citric acid</th>\n",
       "      <th>residual sugar</th>\n",
       "      <th>chlorides</th>\n",
       "      <th>free sulfur dioxide</th>\n",
       "      <th>total sulfur dioxide</th>\n",
       "      <th>density</th>\n",
       "      <th>pH</th>\n",
       "      <th>sulphates</th>\n",
       "      <th>alcohol</th>\n",
       "    </tr>\n",
       "  </thead>\n",
       "  <tbody>\n",
       "    <tr>\n",
       "      <th>225</th>\n",
       "      <td>7.5</td>\n",
       "      <td>0.65</td>\n",
       "      <td>0.18</td>\n",
       "      <td>7.0</td>\n",
       "      <td>0.088</td>\n",
       "      <td>27.0</td>\n",
       "      <td>94.0</td>\n",
       "      <td>0.99915</td>\n",
       "      <td>3.38</td>\n",
       "      <td>0.77</td>\n",
       "      <td>9.4</td>\n",
       "    </tr>\n",
       "    <tr>\n",
       "      <th>3557</th>\n",
       "      <td>6.3</td>\n",
       "      <td>0.27</td>\n",
       "      <td>0.29</td>\n",
       "      <td>12.2</td>\n",
       "      <td>0.044</td>\n",
       "      <td>59.0</td>\n",
       "      <td>196.0</td>\n",
       "      <td>0.99782</td>\n",
       "      <td>3.14</td>\n",
       "      <td>0.40</td>\n",
       "      <td>8.8</td>\n",
       "    </tr>\n",
       "    <tr>\n",
       "      <th>3825</th>\n",
       "      <td>8.8</td>\n",
       "      <td>0.27</td>\n",
       "      <td>0.25</td>\n",
       "      <td>5.0</td>\n",
       "      <td>0.024</td>\n",
       "      <td>52.0</td>\n",
       "      <td>99.0</td>\n",
       "      <td>0.99250</td>\n",
       "      <td>2.87</td>\n",
       "      <td>0.49</td>\n",
       "      <td>11.4</td>\n",
       "    </tr>\n",
       "    <tr>\n",
       "      <th>1740</th>\n",
       "      <td>6.4</td>\n",
       "      <td>0.45</td>\n",
       "      <td>0.07</td>\n",
       "      <td>1.1</td>\n",
       "      <td>0.030</td>\n",
       "      <td>10.0</td>\n",
       "      <td>131.0</td>\n",
       "      <td>0.99050</td>\n",
       "      <td>2.97</td>\n",
       "      <td>0.28</td>\n",
       "      <td>10.8</td>\n",
       "    </tr>\n",
       "    <tr>\n",
       "      <th>1221</th>\n",
       "      <td>7.2</td>\n",
       "      <td>0.53</td>\n",
       "      <td>0.13</td>\n",
       "      <td>2.0</td>\n",
       "      <td>0.058</td>\n",
       "      <td>18.0</td>\n",
       "      <td>22.0</td>\n",
       "      <td>0.99573</td>\n",
       "      <td>3.21</td>\n",
       "      <td>0.68</td>\n",
       "      <td>9.9</td>\n",
       "    </tr>\n",
       "  </tbody>\n",
       "</table>\n",
       "</div>"
      ],
      "text/plain": [
       "      fixed acidity  volatile acidity  citric acid  residual sugar  chlorides  \\\n",
       "225             7.5              0.65         0.18             7.0      0.088   \n",
       "3557            6.3              0.27         0.29            12.2      0.044   \n",
       "3825            8.8              0.27         0.25             5.0      0.024   \n",
       "1740            6.4              0.45         0.07             1.1      0.030   \n",
       "1221            7.2              0.53         0.13             2.0      0.058   \n",
       "\n",
       "      free sulfur dioxide  total sulfur dioxide  density    pH  sulphates  \\\n",
       "225                  27.0                  94.0  0.99915  3.38       0.77   \n",
       "3557                 59.0                 196.0  0.99782  3.14       0.40   \n",
       "3825                 52.0                  99.0  0.99250  2.87       0.49   \n",
       "1740                 10.0                 131.0  0.99050  2.97       0.28   \n",
       "1221                 18.0                  22.0  0.99573  3.21       0.68   \n",
       "\n",
       "      alcohol  \n",
       "225       9.4  \n",
       "3557      8.8  \n",
       "3825     11.4  \n",
       "1740     10.8  \n",
       "1221      9.9  "
      ]
     },
     "execution_count": 23,
     "metadata": {},
     "output_type": "execute_result"
    }
   ],
   "source": [
    "train.head()"
   ]
  },
  {
   "cell_type": "markdown",
   "metadata": {
    "colab_type": "text",
    "id": "hEdbrruAsN1D"
   },
   "source": [
    "### Normalize the data (TODO)\n",
    "\n",
    "Next, you can normalize the data, x, using the formula:\n",
    "$$x_{norm} = \\frac{x - \\mu}{\\sigma}$$\n",
    "- The `norm` function is defined for you.\n",
    "- Please apply the `norm` function to normalize the dataframes that contains the feature columns of `train`, `val` and `test` sets."
   ]
  },
  {
   "cell_type": "code",
   "execution_count": 24,
   "metadata": {
    "colab": {},
    "colab_type": "code",
    "id": "WWiZPAHCLjUs"
   },
   "outputs": [],
   "source": [
    "def norm(x):\n",
    "    return (x - train_stats['mean']) / train_stats['std']"
   ]
  },
  {
   "cell_type": "code",
   "execution_count": 25,
   "metadata": {
    "colab": {},
    "colab_type": "code",
    "deletable": false,
    "id": "JEaOi2I2Lk69",
    "nbgrader": {
     "cell_type": "code",
     "checksum": "6bc0cdcb563d192f271067aa3373ff32",
     "grade": false,
     "grade_id": "cell-d8416d975c371095",
     "locked": false,
     "schema_version": 3,
     "solution": true,
     "task": false
    }
   },
   "outputs": [],
   "source": [
    "# Please uncomment all lines in this cell and replace those marked with `# YOUR CODE HERE`.\n",
    "# You can select all lines in this code cell with Ctrl+A (Windows/Linux) or Cmd+A (Mac), then press Ctrl+/ (Windows/Linux) or Cmd+/ (Mac) to uncomment.\n",
    "\n",
    "\n",
    "\n",
    "# normalize the train set\n",
    "norm_train_X = norm(train)\n",
    "    \n",
    "# normalize the val set\n",
    "norm_val_X = norm(val)\n",
    "    \n",
    "# normalize the test set\n",
    "norm_test_X = norm(test)"
   ]
  },
  {
   "cell_type": "code",
   "execution_count": 26,
   "metadata": {
    "deletable": false,
    "editable": false,
    "nbgrader": {
     "cell_type": "code",
     "checksum": "4f567db45bf40191601780379cc100b8",
     "grade": true,
     "grade_id": "cell-97fad979d157529b",
     "locked": true,
     "points": 1,
     "schema_version": 3,
     "solution": false,
     "task": false
    }
   },
   "outputs": [
    {
     "name": "stdout",
     "output_type": "stream",
     "text": [
      "\u001b[92m All public tests passed\n"
     ]
    }
   ],
   "source": [
    "utils.test_norm(norm_train_X, norm_val_X, norm_test_X, train, val, test)\n"
   ]
  },
  {
   "cell_type": "markdown",
   "metadata": {
    "colab_type": "text",
    "id": "hzykDwQhsaPO"
   },
   "source": [
    "## Define the Model (TODO)\n",
    "\n",
    "Define the model using the functional API. The base model will be 2 `Dense` layers of 128 neurons each, and have the `'relu'` activation.\n",
    "- Check out the documentation for [tf.keras.layers.Dense](https://www.tensorflow.org/api_docs/python/tf/keras/layers/Dense)"
   ]
  },
  {
   "cell_type": "code",
   "execution_count": 27,
   "metadata": {
    "colab": {},
    "colab_type": "code",
    "deletable": false,
    "id": "Rhcns3oTFkM6",
    "nbgrader": {
     "cell_type": "code",
     "checksum": "74b031247e569526552bf13a034a1c07",
     "grade": false,
     "grade_id": "cell-73fceedad1fe351c",
     "locked": false,
     "schema_version": 3,
     "solution": true,
     "task": false
    }
   },
   "outputs": [],
   "source": [
    "# Please uncomment all lines in this cell and replace those marked with `# YOUR CODE HERE`.\n",
    "# You can select all lines in this code cell with Ctrl+A (Windows/Linux) or Cmd+A (Mac), then press Ctrl+/ (Windows/Linux) or Cmd+/ (Mac) to uncomment.\n",
    "\n",
    "\n",
    "\n",
    "def base_model(inputs):\n",
    "    \n",
    "    # connect a Dense layer with 128 neurons and a relu activation\n",
    "    x = Dense(128, activation='relu')(inputs)\n",
    "    \n",
    "    # connect another Dense layer with 128 neurons and a relu activation\n",
    "    x = Dense(128, activation='relu')(x)\n",
    "    return x\n",
    "  "
   ]
  },
  {
   "cell_type": "code",
   "execution_count": 28,
   "metadata": {
    "deletable": false,
    "editable": false,
    "nbgrader": {
     "cell_type": "code",
     "checksum": "9255924b3def80f679616e4c851a43e1",
     "grade": true,
     "grade_id": "cell-54f742a133353d75",
     "locked": true,
     "points": 1,
     "schema_version": 3,
     "solution": false,
     "task": false
    }
   },
   "outputs": [
    {
     "name": "stdout",
     "output_type": "stream",
     "text": [
      "\u001b[92m All public tests passed\n"
     ]
    }
   ],
   "source": [
    "utils.test_base_model(base_model)"
   ]
  },
  {
   "cell_type": "markdown",
   "metadata": {
    "colab_type": "text",
    "id": "xem_fcVws6Kz"
   },
   "source": [
    "# Define output layers of the model (TODO)\n",
    "\n",
    "You will add output layers to the base model. \n",
    "- The model will need two outputs.\n",
    "\n",
    "One output layer will predict wine quality, which is a numeric value.\n",
    "- Define a `Dense` layer with 1 neuron.\n",
    "- Since this is a regression output, the activation can be left as its default value `None`.\n",
    "\n",
    "The other output layer will predict the wine type, which is either red `1` or not red `0` (white).\n",
    "- Define a `Dense` layer with 1 neuron.\n",
    "- Since there are two possible categories, you can use a sigmoid activation for binary classification.\n",
    "\n",
    "Define the `Model`\n",
    "- Define the `Model` object, and set the following parameters:\n",
    "  - `inputs`: pass in the inputs to the model as a list.\n",
    "  - `outputs`: pass in a list of the outputs that you just defined: wine quality, then wine type.\n",
    "  - **Note**: please list the wine quality before wine type in the outputs, as this will affect the calculated loss if you choose the other order."
   ]
  },
  {
   "cell_type": "code",
   "execution_count": 29,
   "metadata": {
    "colab": {},
    "colab_type": "code",
    "deletable": false,
    "id": "n5UGF8PMVLPt",
    "nbgrader": {
     "cell_type": "code",
     "checksum": "76d35b90d20cdcbb22986cd8211057de",
     "grade": false,
     "grade_id": "cell-19e285f482f021fb",
     "locked": false,
     "schema_version": 3,
     "solution": true,
     "task": false
    }
   },
   "outputs": [],
   "source": [
    "# Please uncomment all lines in this cell and replace those marked with `# YOUR CODE HERE`.\n",
    "# You can select all lines in this code cell with Ctrl+A (Windows/Linux) or Cmd+A (Mac), then press Ctrl+/ (Windows/Linux) or Cmd+/ (Mac) to uncomment.\n",
    "\n",
    "\n",
    "\n",
    "def final_model(inputs):\n",
    "    \n",
    "    # get the base model\n",
    "    x = base_model(inputs)\n",
    "\n",
    "    # connect the output Dense layer for regression\n",
    "    wine_quality = Dense(units='1', name='wine_quality')(x)\n",
    "\n",
    "    # connect the output Dense layer for classification. this will use a sigmoid activation.\n",
    "    wine_type = Dense(units='1', activation='sigmoid', name='wine_type')(x)\n",
    "\n",
    "    # define the model using the input and output layers\n",
    "    model = Model(inputs=inputs, outputs=[wine_quality, wine_type])\n",
    "\n",
    "    return model"
   ]
  },
  {
   "cell_type": "code",
   "execution_count": 30,
   "metadata": {
    "deletable": false,
    "editable": false,
    "nbgrader": {
     "cell_type": "code",
     "checksum": "89cbf89d8ab5e2e59ecf7f63f517520a",
     "grade": true,
     "grade_id": "cell-40d050f855c817d1",
     "locked": true,
     "points": 1,
     "schema_version": 3,
     "solution": false,
     "task": false
    }
   },
   "outputs": [
    {
     "name": "stdout",
     "output_type": "stream",
     "text": [
      "\u001b[92m All public tests passed\n"
     ]
    }
   ],
   "source": [
    "utils.test_final_model(final_model)"
   ]
  },
  {
   "cell_type": "markdown",
   "metadata": {
    "colab_type": "text",
    "id": "5R0BMTsltZyu"
   },
   "source": [
    "## Compiling the Model\n",
    "\n",
    "Next, compile the model. When setting the loss parameter of `model.compile`, you're setting the loss for each of the two outputs (wine quality and wine type).\n",
    "\n",
    "To set more than one loss, use a dictionary of key-value pairs.\n",
    "- You can look at the docs for the losses [here](https://www.tensorflow.org/api_docs/python/tf/keras/losses#functions).\n",
    "    - **Note**: For the desired spelling, please look at the \"Functions\" section of the documentation and not the \"classes\" section on that same page.\n",
    "- wine_type: Since you will be performing binary classification on wine type, you should use the binary crossentropy loss function for it.  Please pass this in as a string.  \n",
    "  - **Hint**, this should be all lowercase.  In the documentation, you'll see this under the \"Functions\" section, not the \"Classes\" section.\n",
    "- wine_quality: since this is a regression output, use the mean squared error.  Please pass it in as a string, all lowercase.\n",
    "  - **Hint**: You may notice that there are two aliases for mean squared error.  Please use the shorter name.\n",
    "\n",
    "\n",
    "You will also set the metric for each of the two outputs.  Again, to set metrics for two or more outputs, use a dictionary with key value pairs.\n",
    "- The metrics documentation is linked [here](https://www.tensorflow.org/api_docs/python/tf/keras/metrics).\n",
    "- For the wine type, please set it to accuracy as a string, all lowercase.\n",
    "- For wine quality, please use the root mean squared error.  Instead of a string, you'll set it to an instance of the class [RootMeanSquaredError](https://www.tensorflow.org/api_docs/python/tf/keras/metrics/RootMeanSquaredError), which belongs to the tf.keras.metrics module.\n",
    "\n",
    "**Note**: If you see the error message \n",
    ">Exception: wine quality loss function is incorrect.\n",
    "\n",
    "- Please also check your other losses and metrics, as the error may be caused by the other three key-value pairs and not the wine quality loss."
   ]
  },
  {
   "cell_type": "code",
   "execution_count": 31,
   "metadata": {
    "colab": {},
    "colab_type": "code",
    "deletable": false,
    "id": "LK11duUbUjmh",
    "nbgrader": {
     "cell_type": "code",
     "checksum": "22f45067ca69eb2ccadb43874dbcc27b",
     "grade": false,
     "grade_id": "cell-81afdc4dcca51d5e",
     "locked": false,
     "schema_version": 3,
     "solution": true,
     "task": false
    }
   },
   "outputs": [],
   "source": [
    "# Please uncomment all lines in this cell and replace those marked with `# YOUR CODE HERE`.\n",
    "# You can select all lines in this code cell with Ctrl+A (Windows/Linux) or Cmd+A (Mac), then press Ctrl+/ (Windows/Linux) or Cmd+/ (Mac) to uncomment.\n",
    "\n",
    "\n",
    "\n",
    "inputs = tf.keras.layers.Input(shape=(11,))\n",
    "rms = tf.keras.optimizers.RMSprop(lr=0.0001)\n",
    "model = final_model(inputs)\n",
    "\n",
    "model.compile(optimizer=rms, \n",
    "              loss = {'wine_type' : 'binary_crossentropy',\n",
    "                      'wine_quality' : 'mean_squared_error'\n",
    "                     },\n",
    "              metrics = {'wine_type' : 'accuracy',\n",
    "                         'wine_quality': tf.keras.metrics.RootMeanSquaredError()\n",
    "                       }\n",
    "             )\n"
   ]
  },
  {
   "cell_type": "code",
   "execution_count": 32,
   "metadata": {
    "deletable": false,
    "editable": false,
    "nbgrader": {
     "cell_type": "code",
     "checksum": "88e02238ea5e456ff65e835cc8158054",
     "grade": true,
     "grade_id": "cell-2eeeba02391c4632",
     "locked": true,
     "points": 1,
     "schema_version": 3,
     "solution": false,
     "task": false
    }
   },
   "outputs": [
    {
     "name": "stdout",
     "output_type": "stream",
     "text": [
      "\u001b[92m All public tests passed\n"
     ]
    }
   ],
   "source": [
    "utils.test_model_compile(model)"
   ]
  },
  {
   "cell_type": "markdown",
   "metadata": {
    "colab_type": "text",
    "id": "90MpAMpWuKm-"
   },
   "source": [
    "## Training the Model (TODO)\n",
    "\n",
    "Fit the model to the training inputs and outputs. \n",
    "- Check the documentation for [model.fit](https://www.tensorflow.org/api_docs/python/tf/keras/Model#fit).\n",
    "- Remember to use the normalized training set as inputs. \n",
    "- For the validation data, please use the normalized validation set.\n",
    "\n",
    "**Important: Please do not increase the number of epochs below. This is to avoid the grader from timing out. You can increase it once you have submitted your work.**"
   ]
  },
  {
   "cell_type": "code",
   "execution_count": 33,
   "metadata": {
    "colab": {},
    "colab_type": "code",
    "deletable": false,
    "id": "_eiZkle4XwiY",
    "nbgrader": {
     "cell_type": "code",
     "checksum": "d1a4565296017a0611c6f2de675f96cf",
     "grade": false,
     "grade_id": "cell-0bb56262896f6680",
     "locked": false,
     "schema_version": 3,
     "solution": true,
     "task": false
    }
   },
   "outputs": [
    {
     "name": "stdout",
     "output_type": "stream",
     "text": [
      "Train on 3155 samples, validate on 789 samples\n",
      "Epoch 1/180\n",
      "3155/3155 [==============================] - 2s 480us/sample - loss: 27.1417 - wine_quality_loss: 26.3985 - wine_type_loss: 0.7276 - wine_quality_root_mean_squared_error: 5.1395 - wine_type_accuracy: 0.3185 - val_loss: 19.8726 - val_wine_quality_loss: 19.1777 - val_wine_type_loss: 0.7132 - val_wine_quality_root_mean_squared_error: 4.3772 - val_wine_type_accuracy: 0.3498\n",
      "Epoch 2/180\n",
      "3155/3155 [==============================] - 1s 179us/sample - loss: 14.0738 - wine_quality_loss: 13.3583 - wine_type_loss: 0.6997 - wine_quality_root_mean_squared_error: 3.6570 - wine_type_accuracy: 0.3921 - val_loss: 8.7903 - val_wine_quality_loss: 8.1669 - val_wine_type_loss: 0.6614 - val_wine_quality_root_mean_squared_error: 2.8513 - val_wine_type_accuracy: 0.4930\n",
      "Epoch 3/180\n",
      "3155/3155 [==============================] - 0s 151us/sample - loss: 5.8107 - wine_quality_loss: 5.1888 - wine_type_loss: 0.6144 - wine_quality_root_mean_squared_error: 2.2796 - wine_type_accuracy: 0.5997 - val_loss: 3.6428 - val_wine_quality_loss: 3.1408 - val_wine_type_loss: 0.5465 - val_wine_quality_root_mean_squared_error: 1.7598 - val_wine_type_accuracy: 0.7452\n",
      "Epoch 4/180\n",
      "3155/3155 [==============================] - 0s 126us/sample - loss: 3.0269 - wine_quality_loss: 2.5588 - wine_type_loss: 0.4658 - wine_quality_root_mean_squared_error: 1.6002 - wine_type_accuracy: 0.9097 - val_loss: 2.6201 - val_wine_quality_loss: 2.2603 - val_wine_type_loss: 0.3915 - val_wine_quality_root_mean_squared_error: 1.4929 - val_wine_type_accuracy: 0.9810\n",
      "Epoch 5/180\n",
      "3155/3155 [==============================] - 0s 133us/sample - loss: 2.3838 - wine_quality_loss: 2.0486 - wine_type_loss: 0.3344 - wine_quality_root_mean_squared_error: 1.4315 - wine_type_accuracy: 0.9797 - val_loss: 2.2034 - val_wine_quality_loss: 1.9312 - val_wine_type_loss: 0.2947 - val_wine_quality_root_mean_squared_error: 1.3815 - val_wine_type_accuracy: 0.9708\n",
      "Epoch 6/180\n",
      "3155/3155 [==============================] - 0s 153us/sample - loss: 2.0166 - wine_quality_loss: 1.7600 - wine_type_loss: 0.2537 - wine_quality_root_mean_squared_error: 1.3277 - wine_type_accuracy: 0.9797 - val_loss: 1.9209 - val_wine_quality_loss: 1.7094 - val_wine_type_loss: 0.2294 - val_wine_quality_root_mean_squared_error: 1.3005 - val_wine_type_accuracy: 0.9810\n",
      "Epoch 7/180\n",
      "3155/3155 [==============================] - 0s 150us/sample - loss: 1.7783 - wine_quality_loss: 1.5799 - wine_type_loss: 0.1981 - wine_quality_root_mean_squared_error: 1.2569 - wine_type_accuracy: 0.9854 - val_loss: 1.7200 - val_wine_quality_loss: 1.5490 - val_wine_type_loss: 0.1825 - val_wine_quality_root_mean_squared_error: 1.2399 - val_wine_type_accuracy: 0.9861\n",
      "Epoch 8/180\n",
      "3155/3155 [==============================] - 0s 141us/sample - loss: 1.6073 - wine_quality_loss: 1.4462 - wine_type_loss: 0.1589 - wine_quality_root_mean_squared_error: 1.2034 - wine_type_accuracy: 0.9886 - val_loss: 1.5633 - val_wine_quality_loss: 1.4226 - val_wine_type_loss: 0.1484 - val_wine_quality_root_mean_squared_error: 1.1894 - val_wine_type_accuracy: 0.9886\n",
      "Epoch 9/180\n",
      "3155/3155 [==============================] - 0s 144us/sample - loss: 1.4713 - wine_quality_loss: 1.3534 - wine_type_loss: 0.1300 - wine_quality_root_mean_squared_error: 1.1581 - wine_type_accuracy: 0.9886 - val_loss: 1.4349 - val_wine_quality_loss: 1.3179 - val_wine_type_loss: 0.1224 - val_wine_quality_root_mean_squared_error: 1.1455 - val_wine_type_accuracy: 0.9899\n",
      "Epoch 10/180\n",
      "3155/3155 [==============================] - 0s 132us/sample - loss: 1.3608 - wine_quality_loss: 1.2519 - wine_type_loss: 0.1083 - wine_quality_root_mean_squared_error: 1.1191 - wine_type_accuracy: 0.9889 - val_loss: 1.3260 - val_wine_quality_loss: 1.2266 - val_wine_type_loss: 0.1029 - val_wine_quality_root_mean_squared_error: 1.1059 - val_wine_type_accuracy: 0.9899\n",
      "Epoch 11/180\n",
      "3155/3155 [==============================] - 0s 127us/sample - loss: 1.2677 - wine_quality_loss: 1.1964 - wine_type_loss: 0.0925 - wine_quality_root_mean_squared_error: 1.0839 - wine_type_accuracy: 0.9899 - val_loss: 1.2309 - val_wine_quality_loss: 1.1450 - val_wine_type_loss: 0.0880 - val_wine_quality_root_mean_squared_error: 1.0690 - val_wine_type_accuracy: 0.9911\n",
      "Epoch 12/180\n",
      "3155/3155 [==============================] - 0s 124us/sample - loss: 1.1848 - wine_quality_loss: 1.1053 - wine_type_loss: 0.0805 - wine_quality_root_mean_squared_error: 1.0509 - wine_type_accuracy: 0.9899 - val_loss: 1.1447 - val_wine_quality_loss: 1.0687 - val_wine_type_loss: 0.0772 - val_wine_quality_root_mean_squared_error: 1.0331 - val_wine_type_accuracy: 0.9924\n",
      "Epoch 13/180\n",
      "3155/3155 [==============================] - 0s 135us/sample - loss: 1.1076 - wine_quality_loss: 1.0463 - wine_type_loss: 0.0714 - wine_quality_root_mean_squared_error: 1.0179 - wine_type_accuracy: 0.9902 - val_loss: 1.0910 - val_wine_quality_loss: 1.0225 - val_wine_type_loss: 0.0687 - val_wine_quality_root_mean_squared_error: 1.0110 - val_wine_type_accuracy: 0.9924\n",
      "Epoch 14/180\n",
      "3155/3155 [==============================] - 0s 154us/sample - loss: 1.0437 - wine_quality_loss: 0.9786 - wine_type_loss: 0.0644 - wine_quality_root_mean_squared_error: 0.9895 - wine_type_accuracy: 0.9905 - val_loss: 1.0051 - val_wine_quality_loss: 0.9433 - val_wine_type_loss: 0.0620 - val_wine_quality_root_mean_squared_error: 0.9710 - val_wine_type_accuracy: 0.9924\n",
      "Epoch 15/180\n",
      "3155/3155 [==============================] - 0s 150us/sample - loss: 0.9836 - wine_quality_loss: 0.9243 - wine_type_loss: 0.0589 - wine_quality_root_mean_squared_error: 0.9616 - wine_type_accuracy: 0.9911 - val_loss: 0.9486 - val_wine_quality_loss: 0.8911 - val_wine_type_loss: 0.0570 - val_wine_quality_root_mean_squared_error: 0.9441 - val_wine_type_accuracy: 0.9924\n",
      "Epoch 16/180\n",
      "3155/3155 [==============================] - 0s 138us/sample - loss: 0.9258 - wine_quality_loss: 0.8709 - wine_type_loss: 0.0563 - wine_quality_root_mean_squared_error: 0.9333 - wine_type_accuracy: 0.9914 - val_loss: 0.8975 - val_wine_quality_loss: 0.8434 - val_wine_type_loss: 0.0529 - val_wine_quality_root_mean_squared_error: 0.9188 - val_wine_type_accuracy: 0.9924\n",
      "Epoch 17/180\n",
      "3155/3155 [==============================] - 0s 126us/sample - loss: 0.8760 - wine_quality_loss: 0.8270 - wine_type_loss: 0.0510 - wine_quality_root_mean_squared_error: 0.9082 - wine_type_accuracy: 0.9918 - val_loss: 0.8504 - val_wine_quality_loss: 0.7991 - val_wine_type_loss: 0.0500 - val_wine_quality_root_mean_squared_error: 0.8945 - val_wine_type_accuracy: 0.9924\n",
      "Epoch 18/180\n",
      "3155/3155 [==============================] - 0s 148us/sample - loss: 0.8291 - wine_quality_loss: 0.7810 - wine_type_loss: 0.0485 - wine_quality_root_mean_squared_error: 0.8835 - wine_type_accuracy: 0.9918 - val_loss: 0.8012 - val_wine_quality_loss: 0.7522 - val_wine_type_loss: 0.0471 - val_wine_quality_root_mean_squared_error: 0.8682 - val_wine_type_accuracy: 0.9911\n",
      "Epoch 19/180\n",
      "3155/3155 [==============================] - 0s 127us/sample - loss: 0.7865 - wine_quality_loss: 0.7401 - wine_type_loss: 0.0462 - wine_quality_root_mean_squared_error: 0.8604 - wine_type_accuracy: 0.9921 - val_loss: 0.7555 - val_wine_quality_loss: 0.7087 - val_wine_type_loss: 0.0452 - val_wine_quality_root_mean_squared_error: 0.8426 - val_wine_type_accuracy: 0.9937\n",
      "Epoch 20/180\n",
      "3155/3155 [==============================] - 0s 128us/sample - loss: 0.7483 - wine_quality_loss: 0.7039 - wine_type_loss: 0.0443 - wine_quality_root_mean_squared_error: 0.8390 - wine_type_accuracy: 0.9921 - val_loss: 0.7168 - val_wine_quality_loss: 0.6720 - val_wine_type_loss: 0.0436 - val_wine_quality_root_mean_squared_error: 0.8203 - val_wine_type_accuracy: 0.9937\n",
      "Epoch 21/180\n",
      "3155/3155 [==============================] - 0s 137us/sample - loss: 0.7125 - wine_quality_loss: 0.6702 - wine_type_loss: 0.0439 - wine_quality_root_mean_squared_error: 0.8184 - wine_type_accuracy: 0.9921 - val_loss: 0.6895 - val_wine_quality_loss: 0.6459 - val_wine_type_loss: 0.0420 - val_wine_quality_root_mean_squared_error: 0.8045 - val_wine_type_accuracy: 0.9924\n",
      "Epoch 22/180\n"
     ]
    },
    {
     "name": "stdout",
     "output_type": "stream",
     "text": [
      "3155/3155 [==============================] - 0s 151us/sample - loss: 0.6802 - wine_quality_loss: 0.6377 - wine_type_loss: 0.0412 - wine_quality_root_mean_squared_error: 0.7992 - wine_type_accuracy: 0.9924 - val_loss: 0.6631 - val_wine_quality_loss: 0.6209 - val_wine_type_loss: 0.0408 - val_wine_quality_root_mean_squared_error: 0.7886 - val_wine_type_accuracy: 0.9924\n",
      "Epoch 23/180\n",
      "3155/3155 [==============================] - 0s 138us/sample - loss: 0.6495 - wine_quality_loss: 0.6097 - wine_type_loss: 0.0414 - wine_quality_root_mean_squared_error: 0.7806 - wine_type_accuracy: 0.9924 - val_loss: 0.6203 - val_wine_quality_loss: 0.5793 - val_wine_type_loss: 0.0397 - val_wine_quality_root_mean_squared_error: 0.7618 - val_wine_type_accuracy: 0.9924\n",
      "Epoch 24/180\n",
      "3155/3155 [==============================] - 0s 143us/sample - loss: 0.6221 - wine_quality_loss: 0.5835 - wine_type_loss: 0.0391 - wine_quality_root_mean_squared_error: 0.7635 - wine_type_accuracy: 0.9924 - val_loss: 0.6058 - val_wine_quality_loss: 0.5653 - val_wine_type_loss: 0.0387 - val_wine_quality_root_mean_squared_error: 0.7529 - val_wine_type_accuracy: 0.9924\n",
      "Epoch 25/180\n",
      "3155/3155 [==============================] - 0s 130us/sample - loss: 0.5983 - wine_quality_loss: 0.5594 - wine_type_loss: 0.0381 - wine_quality_root_mean_squared_error: 0.7484 - wine_type_accuracy: 0.9921 - val_loss: 0.5840 - val_wine_quality_loss: 0.5445 - val_wine_type_loss: 0.0380 - val_wine_quality_root_mean_squared_error: 0.7387 - val_wine_type_accuracy: 0.9924\n",
      "Epoch 26/180\n",
      "3155/3155 [==============================] - 0s 139us/sample - loss: 0.5755 - wine_quality_loss: 0.5401 - wine_type_loss: 0.0374 - wine_quality_root_mean_squared_error: 0.7336 - wine_type_accuracy: 0.9924 - val_loss: 0.5553 - val_wine_quality_loss: 0.5167 - val_wine_type_loss: 0.0374 - val_wine_quality_root_mean_squared_error: 0.7194 - val_wine_type_accuracy: 0.9924\n",
      "Epoch 27/180\n",
      "3155/3155 [==============================] - 0s 146us/sample - loss: 0.5532 - wine_quality_loss: 0.5166 - wine_type_loss: 0.0365 - wine_quality_root_mean_squared_error: 0.7187 - wine_type_accuracy: 0.9924 - val_loss: 0.5324 - val_wine_quality_loss: 0.4948 - val_wine_type_loss: 0.0367 - val_wine_quality_root_mean_squared_error: 0.7038 - val_wine_type_accuracy: 0.9924\n",
      "Epoch 28/180\n",
      "3155/3155 [==============================] - 0s 133us/sample - loss: 0.5314 - wine_quality_loss: 0.4953 - wine_type_loss: 0.0360 - wine_quality_root_mean_squared_error: 0.7039 - wine_type_accuracy: 0.9924 - val_loss: 0.5133 - val_wine_quality_loss: 0.4761 - val_wine_type_loss: 0.0362 - val_wine_quality_root_mean_squared_error: 0.6905 - val_wine_type_accuracy: 0.9924\n",
      "Epoch 29/180\n",
      "3155/3155 [==============================] - 0s 158us/sample - loss: 0.5142 - wine_quality_loss: 0.4792 - wine_type_loss: 0.0353 - wine_quality_root_mean_squared_error: 0.6919 - wine_type_accuracy: 0.9924 - val_loss: 0.5004 - val_wine_quality_loss: 0.4641 - val_wine_type_loss: 0.0357 - val_wine_quality_root_mean_squared_error: 0.6815 - val_wine_type_accuracy: 0.9924\n",
      "Epoch 30/180\n",
      "3155/3155 [==============================] - 0s 143us/sample - loss: 0.4980 - wine_quality_loss: 0.4643 - wine_type_loss: 0.0348 - wine_quality_root_mean_squared_error: 0.6806 - wine_type_accuracy: 0.9921 - val_loss: 0.4807 - val_wine_quality_loss: 0.4442 - val_wine_type_loss: 0.0354 - val_wine_quality_root_mean_squared_error: 0.6670 - val_wine_type_accuracy: 0.9924\n",
      "Epoch 31/180\n",
      "3155/3155 [==============================] - 0s 136us/sample - loss: 0.4824 - wine_quality_loss: 0.4477 - wine_type_loss: 0.0344 - wine_quality_root_mean_squared_error: 0.6693 - wine_type_accuracy: 0.9924 - val_loss: 0.4711 - val_wine_quality_loss: 0.4353 - val_wine_type_loss: 0.0351 - val_wine_quality_root_mean_squared_error: 0.6600 - val_wine_type_accuracy: 0.9937\n",
      "Epoch 32/180\n",
      "3155/3155 [==============================] - 0s 130us/sample - loss: 0.4681 - wine_quality_loss: 0.4333 - wine_type_loss: 0.0340 - wine_quality_root_mean_squared_error: 0.6589 - wine_type_accuracy: 0.9921 - val_loss: 0.4525 - val_wine_quality_loss: 0.4168 - val_wine_type_loss: 0.0347 - val_wine_quality_root_mean_squared_error: 0.6462 - val_wine_type_accuracy: 0.9937\n",
      "Epoch 33/180\n",
      "3155/3155 [==============================] - 0s 145us/sample - loss: 0.4567 - wine_quality_loss: 0.4238 - wine_type_loss: 0.0335 - wine_quality_root_mean_squared_error: 0.6505 - wine_type_accuracy: 0.9930 - val_loss: 0.4428 - val_wine_quality_loss: 0.4077 - val_wine_type_loss: 0.0343 - val_wine_quality_root_mean_squared_error: 0.6389 - val_wine_type_accuracy: 0.9949\n",
      "Epoch 34/180\n",
      "3155/3155 [==============================] - 0s 135us/sample - loss: 0.4446 - wine_quality_loss: 0.4122 - wine_type_loss: 0.0331 - wine_quality_root_mean_squared_error: 0.6414 - wine_type_accuracy: 0.9933 - val_loss: 0.4476 - val_wine_quality_loss: 0.4130 - val_wine_type_loss: 0.0339 - val_wine_quality_root_mean_squared_error: 0.6429 - val_wine_type_accuracy: 0.9949\n",
      "Epoch 35/180\n",
      "3155/3155 [==============================] - 0s 132us/sample - loss: 0.4342 - wine_quality_loss: 0.4010 - wine_type_loss: 0.0328 - wine_quality_root_mean_squared_error: 0.6335 - wine_type_accuracy: 0.9930 - val_loss: 0.4203 - val_wine_quality_loss: 0.3859 - val_wine_type_loss: 0.0338 - val_wine_quality_root_mean_squared_error: 0.6214 - val_wine_type_accuracy: 0.9949\n",
      "Epoch 36/180\n",
      "3155/3155 [==============================] - 1s 163us/sample - loss: 0.4226 - wine_quality_loss: 0.3901 - wine_type_loss: 0.0324 - wine_quality_root_mean_squared_error: 0.6245 - wine_type_accuracy: 0.9933 - val_loss: 0.4180 - val_wine_quality_loss: 0.3840 - val_wine_type_loss: 0.0336 - val_wine_quality_root_mean_squared_error: 0.6196 - val_wine_type_accuracy: 0.9949\n",
      "Epoch 37/180\n",
      "3155/3155 [==============================] - 0s 150us/sample - loss: 0.4156 - wine_quality_loss: 0.3832 - wine_type_loss: 0.0322 - wine_quality_root_mean_squared_error: 0.6191 - wine_type_accuracy: 0.9940 - val_loss: 0.4016 - val_wine_quality_loss: 0.3676 - val_wine_type_loss: 0.0334 - val_wine_quality_root_mean_squared_error: 0.6064 - val_wine_type_accuracy: 0.9949\n",
      "Epoch 38/180\n",
      "3155/3155 [==============================] - 0s 131us/sample - loss: 0.4077 - wine_quality_loss: 0.3758 - wine_type_loss: 0.0319 - wine_quality_root_mean_squared_error: 0.6130 - wine_type_accuracy: 0.9940 - val_loss: 0.3964 - val_wine_quality_loss: 0.3624 - val_wine_type_loss: 0.0332 - val_wine_quality_root_mean_squared_error: 0.6023 - val_wine_type_accuracy: 0.9949\n",
      "Epoch 39/180\n",
      "3155/3155 [==============================] - 0s 122us/sample - loss: 0.4020 - wine_quality_loss: 0.3707 - wine_type_loss: 0.0316 - wine_quality_root_mean_squared_error: 0.6086 - wine_type_accuracy: 0.9940 - val_loss: 0.3944 - val_wine_quality_loss: 0.3611 - val_wine_type_loss: 0.0331 - val_wine_quality_root_mean_squared_error: 0.6007 - val_wine_type_accuracy: 0.9949\n",
      "Epoch 40/180\n",
      "3155/3155 [==============================] - 0s 143us/sample - loss: 0.3945 - wine_quality_loss: 0.3632 - wine_type_loss: 0.0313 - wine_quality_root_mean_squared_error: 0.6025 - wine_type_accuracy: 0.9943 - val_loss: 0.3866 - val_wine_quality_loss: 0.3535 - val_wine_type_loss: 0.0328 - val_wine_quality_root_mean_squared_error: 0.5945 - val_wine_type_accuracy: 0.9949\n",
      "Epoch 41/180\n",
      "3155/3155 [==============================] - 0s 139us/sample - loss: 0.3894 - wine_quality_loss: 0.3581 - wine_type_loss: 0.0310 - wine_quality_root_mean_squared_error: 0.5986 - wine_type_accuracy: 0.9943 - val_loss: 0.3905 - val_wine_quality_loss: 0.3572 - val_wine_type_loss: 0.0327 - val_wine_quality_root_mean_squared_error: 0.5979 - val_wine_type_accuracy: 0.9949\n",
      "Epoch 42/180\n",
      "3155/3155 [==============================] - 0s 146us/sample - loss: 0.3831 - wine_quality_loss: 0.3524 - wine_type_loss: 0.0308 - wine_quality_root_mean_squared_error: 0.5934 - wine_type_accuracy: 0.9943 - val_loss: 0.3768 - val_wine_quality_loss: 0.3436 - val_wine_type_loss: 0.0326 - val_wine_quality_root_mean_squared_error: 0.5863 - val_wine_type_accuracy: 0.9949\n",
      "Epoch 43/180\n"
     ]
    },
    {
     "name": "stdout",
     "output_type": "stream",
     "text": [
      "3155/3155 [==============================] - 0s 135us/sample - loss: 0.3802 - wine_quality_loss: 0.3494 - wine_type_loss: 0.0306 - wine_quality_root_mean_squared_error: 0.5912 - wine_type_accuracy: 0.9943 - val_loss: 0.3731 - val_wine_quality_loss: 0.3400 - val_wine_type_loss: 0.0325 - val_wine_quality_root_mean_squared_error: 0.5833 - val_wine_type_accuracy: 0.9949\n",
      "Epoch 44/180\n",
      "3155/3155 [==============================] - 0s 129us/sample - loss: 0.3738 - wine_quality_loss: 0.3434 - wine_type_loss: 0.0304 - wine_quality_root_mean_squared_error: 0.5860 - wine_type_accuracy: 0.9943 - val_loss: 0.3648 - val_wine_quality_loss: 0.3317 - val_wine_type_loss: 0.0323 - val_wine_quality_root_mean_squared_error: 0.5763 - val_wine_type_accuracy: 0.9949\n",
      "Epoch 45/180\n",
      "3155/3155 [==============================] - 0s 134us/sample - loss: 0.3706 - wine_quality_loss: 0.3402 - wine_type_loss: 0.0302 - wine_quality_root_mean_squared_error: 0.5834 - wine_type_accuracy: 0.9943 - val_loss: 0.3678 - val_wine_quality_loss: 0.3352 - val_wine_type_loss: 0.0322 - val_wine_quality_root_mean_squared_error: 0.5790 - val_wine_type_accuracy: 0.9949\n",
      "Epoch 46/180\n",
      "3155/3155 [==============================] - 0s 130us/sample - loss: 0.3676 - wine_quality_loss: 0.3376 - wine_type_loss: 0.0299 - wine_quality_root_mean_squared_error: 0.5810 - wine_type_accuracy: 0.9943 - val_loss: 0.3722 - val_wine_quality_loss: 0.3396 - val_wine_type_loss: 0.0322 - val_wine_quality_root_mean_squared_error: 0.5828 - val_wine_type_accuracy: 0.9949\n",
      "Epoch 47/180\n",
      "3155/3155 [==============================] - 0s 128us/sample - loss: 0.3637 - wine_quality_loss: 0.3340 - wine_type_loss: 0.0298 - wine_quality_root_mean_squared_error: 0.5778 - wine_type_accuracy: 0.9943 - val_loss: 0.3670 - val_wine_quality_loss: 0.3341 - val_wine_type_loss: 0.0320 - val_wine_quality_root_mean_squared_error: 0.5785 - val_wine_type_accuracy: 0.9949\n",
      "Epoch 48/180\n",
      "3155/3155 [==============================] - 0s 132us/sample - loss: 0.3620 - wine_quality_loss: 0.3327 - wine_type_loss: 0.0295 - wine_quality_root_mean_squared_error: 0.5765 - wine_type_accuracy: 0.9943 - val_loss: 0.3581 - val_wine_quality_loss: 0.3258 - val_wine_type_loss: 0.0320 - val_wine_quality_root_mean_squared_error: 0.5707 - val_wine_type_accuracy: 0.9949\n",
      "Epoch 49/180\n",
      "3155/3155 [==============================] - 0s 154us/sample - loss: 0.3590 - wine_quality_loss: 0.3294 - wine_type_loss: 0.0294 - wine_quality_root_mean_squared_error: 0.5741 - wine_type_accuracy: 0.9943 - val_loss: 0.3577 - val_wine_quality_loss: 0.3254 - val_wine_type_loss: 0.0318 - val_wine_quality_root_mean_squared_error: 0.5705 - val_wine_type_accuracy: 0.9949\n",
      "Epoch 50/180\n",
      "3155/3155 [==============================] - 0s 153us/sample - loss: 0.3551 - wine_quality_loss: 0.3256 - wine_type_loss: 0.0292 - wine_quality_root_mean_squared_error: 0.5708 - wine_type_accuracy: 0.9943 - val_loss: 0.3605 - val_wine_quality_loss: 0.3279 - val_wine_type_loss: 0.0317 - val_wine_quality_root_mean_squared_error: 0.5731 - val_wine_type_accuracy: 0.9949\n",
      "Epoch 51/180\n",
      "3155/3155 [==============================] - 0s 131us/sample - loss: 0.3546 - wine_quality_loss: 0.3256 - wine_type_loss: 0.0305 - wine_quality_root_mean_squared_error: 0.5705 - wine_type_accuracy: 0.9946 - val_loss: 0.3544 - val_wine_quality_loss: 0.3221 - val_wine_type_loss: 0.0316 - val_wine_quality_root_mean_squared_error: 0.5678 - val_wine_type_accuracy: 0.9949\n",
      "Epoch 52/180\n",
      "3155/3155 [==============================] - 0s 127us/sample - loss: 0.3507 - wine_quality_loss: 0.3215 - wine_type_loss: 0.0289 - wine_quality_root_mean_squared_error: 0.5672 - wine_type_accuracy: 0.9946 - val_loss: 0.3647 - val_wine_quality_loss: 0.3327 - val_wine_type_loss: 0.0317 - val_wine_quality_root_mean_squared_error: 0.5767 - val_wine_type_accuracy: 0.9949\n",
      "Epoch 53/180\n",
      "3155/3155 [==============================] - 0s 126us/sample - loss: 0.3505 - wine_quality_loss: 0.3215 - wine_type_loss: 0.0286 - wine_quality_root_mean_squared_error: 0.5673 - wine_type_accuracy: 0.9946 - val_loss: 0.3505 - val_wine_quality_loss: 0.3187 - val_wine_type_loss: 0.0316 - val_wine_quality_root_mean_squared_error: 0.5644 - val_wine_type_accuracy: 0.9949\n",
      "Epoch 54/180\n",
      "3155/3155 [==============================] - 0s 129us/sample - loss: 0.3464 - wine_quality_loss: 0.3177 - wine_type_loss: 0.0285 - wine_quality_root_mean_squared_error: 0.5637 - wine_type_accuracy: 0.9946 - val_loss: 0.3489 - val_wine_quality_loss: 0.3171 - val_wine_type_loss: 0.0314 - val_wine_quality_root_mean_squared_error: 0.5632 - val_wine_type_accuracy: 0.9949\n",
      "Epoch 55/180\n",
      "3155/3155 [==============================] - 0s 148us/sample - loss: 0.3456 - wine_quality_loss: 0.3167 - wine_type_loss: 0.0283 - wine_quality_root_mean_squared_error: 0.5632 - wine_type_accuracy: 0.9946 - val_loss: 0.3443 - val_wine_quality_loss: 0.3126 - val_wine_type_loss: 0.0314 - val_wine_quality_root_mean_squared_error: 0.5590 - val_wine_type_accuracy: 0.9949\n",
      "Epoch 56/180\n",
      "3155/3155 [==============================] - 0s 133us/sample - loss: 0.3431 - wine_quality_loss: 0.3152 - wine_type_loss: 0.0282 - wine_quality_root_mean_squared_error: 0.5611 - wine_type_accuracy: 0.9949 - val_loss: 0.3526 - val_wine_quality_loss: 0.3214 - val_wine_type_loss: 0.0313 - val_wine_quality_root_mean_squared_error: 0.5665 - val_wine_type_accuracy: 0.9949\n",
      "Epoch 57/180\n",
      "3155/3155 [==============================] - 0s 137us/sample - loss: 0.3425 - wine_quality_loss: 0.3140 - wine_type_loss: 0.0280 - wine_quality_root_mean_squared_error: 0.5607 - wine_type_accuracy: 0.9949 - val_loss: 0.3465 - val_wine_quality_loss: 0.3149 - val_wine_type_loss: 0.0312 - val_wine_quality_root_mean_squared_error: 0.5612 - val_wine_type_accuracy: 0.9949\n",
      "Epoch 58/180\n",
      "3155/3155 [==============================] - 0s 127us/sample - loss: 0.3410 - wine_quality_loss: 0.3129 - wine_type_loss: 0.0285 - wine_quality_root_mean_squared_error: 0.5594 - wine_type_accuracy: 0.9946 - val_loss: 0.3437 - val_wine_quality_loss: 0.3121 - val_wine_type_loss: 0.0311 - val_wine_quality_root_mean_squared_error: 0.5587 - val_wine_type_accuracy: 0.9949\n",
      "Epoch 59/180\n",
      "3155/3155 [==============================] - 0s 122us/sample - loss: 0.3395 - wine_quality_loss: 0.3117 - wine_type_loss: 0.0278 - wine_quality_root_mean_squared_error: 0.5583 - wine_type_accuracy: 0.9946 - val_loss: 0.3433 - val_wine_quality_loss: 0.3119 - val_wine_type_loss: 0.0310 - val_wine_quality_root_mean_squared_error: 0.5585 - val_wine_type_accuracy: 0.9949\n",
      "Epoch 60/180\n",
      "3155/3155 [==============================] - 0s 127us/sample - loss: 0.3373 - wine_quality_loss: 0.3092 - wine_type_loss: 0.0275 - wine_quality_root_mean_squared_error: 0.5565 - wine_type_accuracy: 0.9949 - val_loss: 0.3443 - val_wine_quality_loss: 0.3128 - val_wine_type_loss: 0.0311 - val_wine_quality_root_mean_squared_error: 0.5593 - val_wine_type_accuracy: 0.9949\n",
      "Epoch 61/180\n",
      "3155/3155 [==============================] - 0s 145us/sample - loss: 0.3364 - wine_quality_loss: 0.3090 - wine_type_loss: 0.0274 - wine_quality_root_mean_squared_error: 0.5558 - wine_type_accuracy: 0.9946 - val_loss: 0.3444 - val_wine_quality_loss: 0.3131 - val_wine_type_loss: 0.0310 - val_wine_quality_root_mean_squared_error: 0.5594 - val_wine_type_accuracy: 0.9949\n",
      "Epoch 62/180\n",
      "3155/3155 [==============================] - 0s 135us/sample - loss: 0.3344 - wine_quality_loss: 0.3069 - wine_type_loss: 0.0274 - wine_quality_root_mean_squared_error: 0.5541 - wine_type_accuracy: 0.9949 - val_loss: 0.3465 - val_wine_quality_loss: 0.3150 - val_wine_type_loss: 0.0310 - val_wine_quality_root_mean_squared_error: 0.5614 - val_wine_type_accuracy: 0.9949\n",
      "Epoch 63/180\n",
      "3155/3155 [==============================] - 0s 135us/sample - loss: 0.3346 - wine_quality_loss: 0.3075 - wine_type_loss: 0.0272 - wine_quality_root_mean_squared_error: 0.5544 - wine_type_accuracy: 0.9949 - val_loss: 0.3455 - val_wine_quality_loss: 0.3139 - val_wine_type_loss: 0.0309 - val_wine_quality_root_mean_squared_error: 0.5605 - val_wine_type_accuracy: 0.9949\n",
      "Epoch 64/180\n"
     ]
    },
    {
     "name": "stdout",
     "output_type": "stream",
     "text": [
      "3155/3155 [==============================] - 0s 146us/sample - loss: 0.3330 - wine_quality_loss: 0.3068 - wine_type_loss: 0.0271 - wine_quality_root_mean_squared_error: 0.5531 - wine_type_accuracy: 0.9949 - val_loss: 0.3424 - val_wine_quality_loss: 0.3111 - val_wine_type_loss: 0.0307 - val_wine_quality_root_mean_squared_error: 0.5580 - val_wine_type_accuracy: 0.9949\n",
      "Epoch 65/180\n",
      "3155/3155 [==============================] - 0s 128us/sample - loss: 0.3313 - wine_quality_loss: 0.3040 - wine_type_loss: 0.0269 - wine_quality_root_mean_squared_error: 0.5516 - wine_type_accuracy: 0.9946 - val_loss: 0.3410 - val_wine_quality_loss: 0.3102 - val_wine_type_loss: 0.0307 - val_wine_quality_root_mean_squared_error: 0.5567 - val_wine_type_accuracy: 0.9949\n",
      "Epoch 66/180\n",
      "3155/3155 [==============================] - 0s 130us/sample - loss: 0.3300 - wine_quality_loss: 0.3038 - wine_type_loss: 0.0268 - wine_quality_root_mean_squared_error: 0.5506 - wine_type_accuracy: 0.9946 - val_loss: 0.3551 - val_wine_quality_loss: 0.3236 - val_wine_type_loss: 0.0307 - val_wine_quality_root_mean_squared_error: 0.5692 - val_wine_type_accuracy: 0.9949\n",
      "Epoch 67/180\n",
      "3155/3155 [==============================] - 0s 127us/sample - loss: 0.3302 - wine_quality_loss: 0.3029 - wine_type_loss: 0.0277 - wine_quality_root_mean_squared_error: 0.5509 - wine_type_accuracy: 0.9949 - val_loss: 0.3416 - val_wine_quality_loss: 0.3106 - val_wine_type_loss: 0.0305 - val_wine_quality_root_mean_squared_error: 0.5574 - val_wine_type_accuracy: 0.9949\n",
      "Epoch 68/180\n",
      "3155/3155 [==============================] - 0s 126us/sample - loss: 0.3289 - wine_quality_loss: 0.3024 - wine_type_loss: 0.0265 - wine_quality_root_mean_squared_error: 0.5499 - wine_type_accuracy: 0.9952 - val_loss: 0.3375 - val_wine_quality_loss: 0.3067 - val_wine_type_loss: 0.0305 - val_wine_quality_root_mean_squared_error: 0.5538 - val_wine_type_accuracy: 0.9949\n",
      "Epoch 69/180\n",
      "3155/3155 [==============================] - 0s 148us/sample - loss: 0.3276 - wine_quality_loss: 0.3008 - wine_type_loss: 0.0278 - wine_quality_root_mean_squared_error: 0.5487 - wine_type_accuracy: 0.9952 - val_loss: 0.3399 - val_wine_quality_loss: 0.3092 - val_wine_type_loss: 0.0304 - val_wine_quality_root_mean_squared_error: 0.5560 - val_wine_type_accuracy: 0.9949\n",
      "Epoch 70/180\n",
      "3155/3155 [==============================] - 0s 140us/sample - loss: 0.3265 - wine_quality_loss: 0.3001 - wine_type_loss: 0.0262 - wine_quality_root_mean_squared_error: 0.5479 - wine_type_accuracy: 0.9949 - val_loss: 0.3390 - val_wine_quality_loss: 0.3083 - val_wine_type_loss: 0.0303 - val_wine_quality_root_mean_squared_error: 0.5553 - val_wine_type_accuracy: 0.9949\n",
      "Epoch 71/180\n",
      "3155/3155 [==============================] - 0s 126us/sample - loss: 0.3260 - wine_quality_loss: 0.2995 - wine_type_loss: 0.0260 - wine_quality_root_mean_squared_error: 0.5476 - wine_type_accuracy: 0.9952 - val_loss: 0.3380 - val_wine_quality_loss: 0.3071 - val_wine_type_loss: 0.0303 - val_wine_quality_root_mean_squared_error: 0.5543 - val_wine_type_accuracy: 0.9949\n",
      "Epoch 72/180\n",
      "3155/3155 [==============================] - 0s 150us/sample - loss: 0.3248 - wine_quality_loss: 0.2981 - wine_type_loss: 0.0259 - wine_quality_root_mean_squared_error: 0.5466 - wine_type_accuracy: 0.9952 - val_loss: 0.3429 - val_wine_quality_loss: 0.3122 - val_wine_type_loss: 0.0304 - val_wine_quality_root_mean_squared_error: 0.5587 - val_wine_type_accuracy: 0.9949\n",
      "Epoch 73/180\n",
      "3155/3155 [==============================] - 0s 138us/sample - loss: 0.3245 - wine_quality_loss: 0.2985 - wine_type_loss: 0.0258 - wine_quality_root_mean_squared_error: 0.5465 - wine_type_accuracy: 0.9949 - val_loss: 0.3396 - val_wine_quality_loss: 0.3088 - val_wine_type_loss: 0.0304 - val_wine_quality_root_mean_squared_error: 0.5557 - val_wine_type_accuracy: 0.9949\n",
      "Epoch 74/180\n",
      "3155/3155 [==============================] - 0s 135us/sample - loss: 0.3228 - wine_quality_loss: 0.2978 - wine_type_loss: 0.0257 - wine_quality_root_mean_squared_error: 0.5449 - wine_type_accuracy: 0.9952 - val_loss: 0.3402 - val_wine_quality_loss: 0.3097 - val_wine_type_loss: 0.0303 - val_wine_quality_root_mean_squared_error: 0.5564 - val_wine_type_accuracy: 0.9949\n",
      "Epoch 75/180\n",
      "3155/3155 [==============================] - 0s 126us/sample - loss: 0.3223 - wine_quality_loss: 0.2968 - wine_type_loss: 0.0256 - wine_quality_root_mean_squared_error: 0.5446 - wine_type_accuracy: 0.9952 - val_loss: 0.3499 - val_wine_quality_loss: 0.3188 - val_wine_type_loss: 0.0302 - val_wine_quality_root_mean_squared_error: 0.5651 - val_wine_type_accuracy: 0.9949\n",
      "Epoch 76/180\n",
      "3155/3155 [==============================] - 0s 138us/sample - loss: 0.3208 - wine_quality_loss: 0.2949 - wine_type_loss: 0.0255 - wine_quality_root_mean_squared_error: 0.5433 - wine_type_accuracy: 0.9952 - val_loss: 0.3374 - val_wine_quality_loss: 0.3071 - val_wine_type_loss: 0.0301 - val_wine_quality_root_mean_squared_error: 0.5540 - val_wine_type_accuracy: 0.9949\n",
      "Epoch 77/180\n",
      "3155/3155 [==============================] - 0s 141us/sample - loss: 0.3207 - wine_quality_loss: 0.2956 - wine_type_loss: 0.0253 - wine_quality_root_mean_squared_error: 0.5434 - wine_type_accuracy: 0.9952 - val_loss: 0.3431 - val_wine_quality_loss: 0.3126 - val_wine_type_loss: 0.0300 - val_wine_quality_root_mean_squared_error: 0.5592 - val_wine_type_accuracy: 0.9949\n",
      "Epoch 78/180\n",
      "3155/3155 [==============================] - 0s 135us/sample - loss: 0.3199 - wine_quality_loss: 0.2951 - wine_type_loss: 0.0252 - wine_quality_root_mean_squared_error: 0.5428 - wine_type_accuracy: 0.9952 - val_loss: 0.3479 - val_wine_quality_loss: 0.3174 - val_wine_type_loss: 0.0299 - val_wine_quality_root_mean_squared_error: 0.5635 - val_wine_type_accuracy: 0.9949\n",
      "Epoch 79/180\n",
      "3155/3155 [==============================] - 0s 124us/sample - loss: 0.3194 - wine_quality_loss: 0.2938 - wine_type_loss: 0.0251 - wine_quality_root_mean_squared_error: 0.5424 - wine_type_accuracy: 0.9952 - val_loss: 0.3393 - val_wine_quality_loss: 0.3093 - val_wine_type_loss: 0.0299 - val_wine_quality_root_mean_squared_error: 0.5559 - val_wine_type_accuracy: 0.9949\n",
      "Epoch 80/180\n",
      "3155/3155 [==============================] - 0s 128us/sample - loss: 0.3182 - wine_quality_loss: 0.2930 - wine_type_loss: 0.0263 - wine_quality_root_mean_squared_error: 0.5414 - wine_type_accuracy: 0.9952 - val_loss: 0.3462 - val_wine_quality_loss: 0.3157 - val_wine_type_loss: 0.0298 - val_wine_quality_root_mean_squared_error: 0.5621 - val_wine_type_accuracy: 0.9949\n",
      "Epoch 81/180\n",
      "3155/3155 [==============================] - 0s 131us/sample - loss: 0.3179 - wine_quality_loss: 0.2930 - wine_type_loss: 0.0249 - wine_quality_root_mean_squared_error: 0.5412 - wine_type_accuracy: 0.9952 - val_loss: 0.3388 - val_wine_quality_loss: 0.3087 - val_wine_type_loss: 0.0298 - val_wine_quality_root_mean_squared_error: 0.5555 - val_wine_type_accuracy: 0.9949\n",
      "Epoch 82/180\n",
      "3155/3155 [==============================] - 0s 145us/sample - loss: 0.3177 - wine_quality_loss: 0.2925 - wine_type_loss: 0.0247 - wine_quality_root_mean_squared_error: 0.5412 - wine_type_accuracy: 0.9952 - val_loss: 0.3403 - val_wine_quality_loss: 0.3102 - val_wine_type_loss: 0.0298 - val_wine_quality_root_mean_squared_error: 0.5569 - val_wine_type_accuracy: 0.9949\n",
      "Epoch 83/180\n",
      "3155/3155 [==============================] - 0s 133us/sample - loss: 0.3167 - wine_quality_loss: 0.2922 - wine_type_loss: 0.0247 - wine_quality_root_mean_squared_error: 0.5403 - wine_type_accuracy: 0.9952 - val_loss: 0.3367 - val_wine_quality_loss: 0.3066 - val_wine_type_loss: 0.0298 - val_wine_quality_root_mean_squared_error: 0.5536 - val_wine_type_accuracy: 0.9949\n",
      "Epoch 84/180\n",
      "3155/3155 [==============================] - 0s 148us/sample - loss: 0.3156 - wine_quality_loss: 0.2909 - wine_type_loss: 0.0245 - wine_quality_root_mean_squared_error: 0.5394 - wine_type_accuracy: 0.9952 - val_loss: 0.3358 - val_wine_quality_loss: 0.3059 - val_wine_type_loss: 0.0297 - val_wine_quality_root_mean_squared_error: 0.5529 - val_wine_type_accuracy: 0.9949\n",
      "Epoch 85/180\n"
     ]
    },
    {
     "name": "stdout",
     "output_type": "stream",
     "text": [
      "3155/3155 [==============================] - 0s 139us/sample - loss: 0.3147 - wine_quality_loss: 0.2900 - wine_type_loss: 0.0244 - wine_quality_root_mean_squared_error: 0.5387 - wine_type_accuracy: 0.9952 - val_loss: 0.3427 - val_wine_quality_loss: 0.3125 - val_wine_type_loss: 0.0296 - val_wine_quality_root_mean_squared_error: 0.5592 - val_wine_type_accuracy: 0.9949\n",
      "Epoch 86/180\n",
      "3155/3155 [==============================] - 0s 124us/sample - loss: 0.3134 - wine_quality_loss: 0.2897 - wine_type_loss: 0.0243 - wine_quality_root_mean_squared_error: 0.5376 - wine_type_accuracy: 0.9952 - val_loss: 0.3377 - val_wine_quality_loss: 0.3080 - val_wine_type_loss: 0.0295 - val_wine_quality_root_mean_squared_error: 0.5548 - val_wine_type_accuracy: 0.9949\n",
      "Epoch 87/180\n",
      "3155/3155 [==============================] - 0s 123us/sample - loss: 0.3146 - wine_quality_loss: 0.2905 - wine_type_loss: 0.0242 - wine_quality_root_mean_squared_error: 0.5388 - wine_type_accuracy: 0.9952 - val_loss: 0.3425 - val_wine_quality_loss: 0.3125 - val_wine_type_loss: 0.0295 - val_wine_quality_root_mean_squared_error: 0.5591 - val_wine_type_accuracy: 0.9949\n",
      "Epoch 88/180\n",
      "3155/3155 [==============================] - 0s 127us/sample - loss: 0.3132 - wine_quality_loss: 0.2887 - wine_type_loss: 0.0241 - wine_quality_root_mean_squared_error: 0.5376 - wine_type_accuracy: 0.9952 - val_loss: 0.3366 - val_wine_quality_loss: 0.3068 - val_wine_type_loss: 0.0295 - val_wine_quality_root_mean_squared_error: 0.5539 - val_wine_type_accuracy: 0.9949\n",
      "Epoch 89/180\n",
      "3155/3155 [==============================] - 0s 132us/sample - loss: 0.3109 - wine_quality_loss: 0.2867 - wine_type_loss: 0.0240 - wine_quality_root_mean_squared_error: 0.5356 - wine_type_accuracy: 0.9952 - val_loss: 0.3615 - val_wine_quality_loss: 0.3312 - val_wine_type_loss: 0.0294 - val_wine_quality_root_mean_squared_error: 0.5759 - val_wine_type_accuracy: 0.9949\n",
      "Epoch 90/180\n",
      "3155/3155 [==============================] - 0s 132us/sample - loss: 0.3129 - wine_quality_loss: 0.2897 - wine_type_loss: 0.0239 - wine_quality_root_mean_squared_error: 0.5376 - wine_type_accuracy: 0.9952 - val_loss: 0.3417 - val_wine_quality_loss: 0.3117 - val_wine_type_loss: 0.0294 - val_wine_quality_root_mean_squared_error: 0.5585 - val_wine_type_accuracy: 0.9949\n",
      "Epoch 91/180\n",
      "3155/3155 [==============================] - 0s 141us/sample - loss: 0.3114 - wine_quality_loss: 0.2869 - wine_type_loss: 0.0238 - wine_quality_root_mean_squared_error: 0.5362 - wine_type_accuracy: 0.9952 - val_loss: 0.3343 - val_wine_quality_loss: 0.3046 - val_wine_type_loss: 0.0293 - val_wine_quality_root_mean_squared_error: 0.5520 - val_wine_type_accuracy: 0.9949\n",
      "Epoch 92/180\n",
      "3155/3155 [==============================] - 0s 133us/sample - loss: 0.3105 - wine_quality_loss: 0.2864 - wine_type_loss: 0.0237 - wine_quality_root_mean_squared_error: 0.5355 - wine_type_accuracy: 0.9952 - val_loss: 0.3326 - val_wine_quality_loss: 0.3034 - val_wine_type_loss: 0.0292 - val_wine_quality_root_mean_squared_error: 0.5505 - val_wine_type_accuracy: 0.9949\n",
      "Epoch 93/180\n",
      "3155/3155 [==============================] - 0s 148us/sample - loss: 0.3107 - wine_quality_loss: 0.2870 - wine_type_loss: 0.0236 - wine_quality_root_mean_squared_error: 0.5358 - wine_type_accuracy: 0.9952 - val_loss: 0.3350 - val_wine_quality_loss: 0.3055 - val_wine_type_loss: 0.0291 - val_wine_quality_root_mean_squared_error: 0.5527 - val_wine_type_accuracy: 0.9949\n",
      "Epoch 94/180\n",
      "3155/3155 [==============================] - 0s 139us/sample - loss: 0.3095 - wine_quality_loss: 0.2865 - wine_type_loss: 0.0235 - wine_quality_root_mean_squared_error: 0.5347 - wine_type_accuracy: 0.9952 - val_loss: 0.3343 - val_wine_quality_loss: 0.3049 - val_wine_type_loss: 0.0290 - val_wine_quality_root_mean_squared_error: 0.5522 - val_wine_type_accuracy: 0.9949\n",
      "Epoch 95/180\n",
      "3155/3155 [==============================] - 0s 145us/sample - loss: 0.3085 - wine_quality_loss: 0.2845 - wine_type_loss: 0.0234 - wine_quality_root_mean_squared_error: 0.5339 - wine_type_accuracy: 0.9952 - val_loss: 0.3373 - val_wine_quality_loss: 0.3079 - val_wine_type_loss: 0.0290 - val_wine_quality_root_mean_squared_error: 0.5549 - val_wine_type_accuracy: 0.9949\n",
      "Epoch 96/180\n",
      "3155/3155 [==============================] - 0s 132us/sample - loss: 0.3074 - wine_quality_loss: 0.2836 - wine_type_loss: 0.0233 - wine_quality_root_mean_squared_error: 0.5330 - wine_type_accuracy: 0.9952 - val_loss: 0.3340 - val_wine_quality_loss: 0.3046 - val_wine_type_loss: 0.0289 - val_wine_quality_root_mean_squared_error: 0.5520 - val_wine_type_accuracy: 0.9949\n",
      "Epoch 97/180\n",
      "3155/3155 [==============================] - 0s 136us/sample - loss: 0.3080 - wine_quality_loss: 0.2848 - wine_type_loss: 0.0232 - wine_quality_root_mean_squared_error: 0.5337 - wine_type_accuracy: 0.9952 - val_loss: 0.3340 - val_wine_quality_loss: 0.3047 - val_wine_type_loss: 0.0290 - val_wine_quality_root_mean_squared_error: 0.5519 - val_wine_type_accuracy: 0.9949\n",
      "Epoch 98/180\n",
      "3155/3155 [==============================] - 0s 148us/sample - loss: 0.3073 - wine_quality_loss: 0.2839 - wine_type_loss: 0.0231 - wine_quality_root_mean_squared_error: 0.5330 - wine_type_accuracy: 0.9952 - val_loss: 0.3350 - val_wine_quality_loss: 0.3056 - val_wine_type_loss: 0.0290 - val_wine_quality_root_mean_squared_error: 0.5529 - val_wine_type_accuracy: 0.9949\n",
      "Epoch 99/180\n",
      "3155/3155 [==============================] - 0s 152us/sample - loss: 0.3065 - wine_quality_loss: 0.2833 - wine_type_loss: 0.0230 - wine_quality_root_mean_squared_error: 0.5324 - wine_type_accuracy: 0.9956 - val_loss: 0.3351 - val_wine_quality_loss: 0.3059 - val_wine_type_loss: 0.0288 - val_wine_quality_root_mean_squared_error: 0.5531 - val_wine_type_accuracy: 0.9949\n",
      "Epoch 100/180\n",
      "3155/3155 [==============================] - 0s 135us/sample - loss: 0.3056 - wine_quality_loss: 0.2828 - wine_type_loss: 0.0229 - wine_quality_root_mean_squared_error: 0.5316 - wine_type_accuracy: 0.9956 - val_loss: 0.3332 - val_wine_quality_loss: 0.3041 - val_wine_type_loss: 0.0287 - val_wine_quality_root_mean_squared_error: 0.5515 - val_wine_type_accuracy: 0.9949\n",
      "Epoch 101/180\n",
      "3155/3155 [==============================] - 0s 139us/sample - loss: 0.3055 - wine_quality_loss: 0.2825 - wine_type_loss: 0.0228 - wine_quality_root_mean_squared_error: 0.5317 - wine_type_accuracy: 0.9952 - val_loss: 0.3446 - val_wine_quality_loss: 0.3156 - val_wine_type_loss: 0.0288 - val_wine_quality_root_mean_squared_error: 0.5617 - val_wine_type_accuracy: 0.9949\n",
      "Epoch 102/180\n",
      "3155/3155 [==============================] - 0s 147us/sample - loss: 0.3044 - wine_quality_loss: 0.2815 - wine_type_loss: 0.0227 - wine_quality_root_mean_squared_error: 0.5307 - wine_type_accuracy: 0.9956 - val_loss: 0.3296 - val_wine_quality_loss: 0.3007 - val_wine_type_loss: 0.0287 - val_wine_quality_root_mean_squared_error: 0.5482 - val_wine_type_accuracy: 0.9949\n",
      "Epoch 103/180\n",
      "3155/3155 [==============================] - 0s 147us/sample - loss: 0.3041 - wine_quality_loss: 0.2811 - wine_type_loss: 0.0226 - wine_quality_root_mean_squared_error: 0.5306 - wine_type_accuracy: 0.9956 - val_loss: 0.3327 - val_wine_quality_loss: 0.3037 - val_wine_type_loss: 0.0286 - val_wine_quality_root_mean_squared_error: 0.5511 - val_wine_type_accuracy: 0.9949\n",
      "Epoch 104/180\n",
      "3155/3155 [==============================] - 0s 138us/sample - loss: 0.3037 - wine_quality_loss: 0.2809 - wine_type_loss: 0.0225 - wine_quality_root_mean_squared_error: 0.5303 - wine_type_accuracy: 0.9956 - val_loss: 0.3380 - val_wine_quality_loss: 0.3090 - val_wine_type_loss: 0.0286 - val_wine_quality_root_mean_squared_error: 0.5559 - val_wine_type_accuracy: 0.9949\n",
      "Epoch 105/180\n",
      "3155/3155 [==============================] - 0s 146us/sample - loss: 0.3035 - wine_quality_loss: 0.2817 - wine_type_loss: 0.0223 - wine_quality_root_mean_squared_error: 0.5302 - wine_type_accuracy: 0.9956 - val_loss: 0.3415 - val_wine_quality_loss: 0.3126 - val_wine_type_loss: 0.0285 - val_wine_quality_root_mean_squared_error: 0.5591 - val_wine_type_accuracy: 0.9949\n",
      "Epoch 106/180\n"
     ]
    },
    {
     "name": "stdout",
     "output_type": "stream",
     "text": [
      "3155/3155 [==============================] - 0s 142us/sample - loss: 0.3028 - wine_quality_loss: 0.2811 - wine_type_loss: 0.0222 - wine_quality_root_mean_squared_error: 0.5296 - wine_type_accuracy: 0.9956 - val_loss: 0.3310 - val_wine_quality_loss: 0.3022 - val_wine_type_loss: 0.0284 - val_wine_quality_root_mean_squared_error: 0.5498 - val_wine_type_accuracy: 0.9949\n",
      "Epoch 107/180\n",
      "3155/3155 [==============================] - 0s 146us/sample - loss: 0.3018 - wine_quality_loss: 0.2794 - wine_type_loss: 0.0222 - wine_quality_root_mean_squared_error: 0.5288 - wine_type_accuracy: 0.9956 - val_loss: 0.3285 - val_wine_quality_loss: 0.3000 - val_wine_type_loss: 0.0284 - val_wine_quality_root_mean_squared_error: 0.5475 - val_wine_type_accuracy: 0.9949\n",
      "Epoch 108/180\n",
      "3155/3155 [==============================] - 0s 130us/sample - loss: 0.3021 - wine_quality_loss: 0.2802 - wine_type_loss: 0.0221 - wine_quality_root_mean_squared_error: 0.5291 - wine_type_accuracy: 0.9956 - val_loss: 0.3314 - val_wine_quality_loss: 0.3027 - val_wine_type_loss: 0.0282 - val_wine_quality_root_mean_squared_error: 0.5503 - val_wine_type_accuracy: 0.9949\n",
      "Epoch 109/180\n",
      "3155/3155 [==============================] - 0s 129us/sample - loss: 0.3001 - wine_quality_loss: 0.2776 - wine_type_loss: 0.0220 - wine_quality_root_mean_squared_error: 0.5273 - wine_type_accuracy: 0.9956 - val_loss: 0.3368 - val_wine_quality_loss: 0.3085 - val_wine_type_loss: 0.0282 - val_wine_quality_root_mean_squared_error: 0.5553 - val_wine_type_accuracy: 0.9949\n",
      "Epoch 110/180\n",
      "3155/3155 [==============================] - 0s 133us/sample - loss: 0.3016 - wine_quality_loss: 0.2790 - wine_type_loss: 0.0218 - wine_quality_root_mean_squared_error: 0.5289 - wine_type_accuracy: 0.9956 - val_loss: 0.3355 - val_wine_quality_loss: 0.3070 - val_wine_type_loss: 0.0282 - val_wine_quality_root_mean_squared_error: 0.5540 - val_wine_type_accuracy: 0.9949\n",
      "Epoch 111/180\n",
      "3155/3155 [==============================] - 0s 152us/sample - loss: 0.2994 - wine_quality_loss: 0.2773 - wine_type_loss: 0.0218 - wine_quality_root_mean_squared_error: 0.5268 - wine_type_accuracy: 0.9956 - val_loss: 0.3440 - val_wine_quality_loss: 0.3154 - val_wine_type_loss: 0.0282 - val_wine_quality_root_mean_squared_error: 0.5617 - val_wine_type_accuracy: 0.9949\n",
      "Epoch 112/180\n",
      "3155/3155 [==============================] - 0s 138us/sample - loss: 0.2996 - wine_quality_loss: 0.2776 - wine_type_loss: 0.0216 - wine_quality_root_mean_squared_error: 0.5271 - wine_type_accuracy: 0.9956 - val_loss: 0.3356 - val_wine_quality_loss: 0.3072 - val_wine_type_loss: 0.0281 - val_wine_quality_root_mean_squared_error: 0.5543 - val_wine_type_accuracy: 0.9949\n",
      "Epoch 113/180\n",
      "3155/3155 [==============================] - 0s 116us/sample - loss: 0.2990 - wine_quality_loss: 0.2773 - wine_type_loss: 0.0216 - wine_quality_root_mean_squared_error: 0.5266 - wine_type_accuracy: 0.9959 - val_loss: 0.3306 - val_wine_quality_loss: 0.3021 - val_wine_type_loss: 0.0281 - val_wine_quality_root_mean_squared_error: 0.5496 - val_wine_type_accuracy: 0.9949\n",
      "Epoch 114/180\n",
      "3155/3155 [==============================] - 0s 152us/sample - loss: 0.2989 - wine_quality_loss: 0.2770 - wine_type_loss: 0.0215 - wine_quality_root_mean_squared_error: 0.5266 - wine_type_accuracy: 0.9956 - val_loss: 0.3307 - val_wine_quality_loss: 0.3024 - val_wine_type_loss: 0.0280 - val_wine_quality_root_mean_squared_error: 0.5498 - val_wine_type_accuracy: 0.9949\n",
      "Epoch 115/180\n",
      "3155/3155 [==============================] - 0s 133us/sample - loss: 0.2966 - wine_quality_loss: 0.2756 - wine_type_loss: 0.0214 - wine_quality_root_mean_squared_error: 0.5245 - wine_type_accuracy: 0.9956 - val_loss: 0.3286 - val_wine_quality_loss: 0.3004 - val_wine_type_loss: 0.0281 - val_wine_quality_root_mean_squared_error: 0.5479 - val_wine_type_accuracy: 0.9949\n",
      "Epoch 116/180\n",
      "3155/3155 [==============================] - 0s 122us/sample - loss: 0.2971 - wine_quality_loss: 0.2756 - wine_type_loss: 0.0213 - wine_quality_root_mean_squared_error: 0.5251 - wine_type_accuracy: 0.9959 - val_loss: 0.3419 - val_wine_quality_loss: 0.3135 - val_wine_type_loss: 0.0281 - val_wine_quality_root_mean_squared_error: 0.5599 - val_wine_type_accuracy: 0.9949\n",
      "Epoch 117/180\n",
      "3155/3155 [==============================] - 0s 125us/sample - loss: 0.2963 - wine_quality_loss: 0.2750 - wine_type_loss: 0.0212 - wine_quality_root_mean_squared_error: 0.5244 - wine_type_accuracy: 0.9956 - val_loss: 0.3348 - val_wine_quality_loss: 0.3064 - val_wine_type_loss: 0.0280 - val_wine_quality_root_mean_squared_error: 0.5535 - val_wine_type_accuracy: 0.9949\n",
      "Epoch 118/180\n",
      "3155/3155 [==============================] - 0s 151us/sample - loss: 0.2959 - wine_quality_loss: 0.2745 - wine_type_loss: 0.0216 - wine_quality_root_mean_squared_error: 0.5241 - wine_type_accuracy: 0.9956 - val_loss: 0.3417 - val_wine_quality_loss: 0.3139 - val_wine_type_loss: 0.0280 - val_wine_quality_root_mean_squared_error: 0.5598 - val_wine_type_accuracy: 0.9949\n",
      "Epoch 119/180\n",
      "3155/3155 [==============================] - 0s 129us/sample - loss: 0.2967 - wine_quality_loss: 0.2758 - wine_type_loss: 0.0210 - wine_quality_root_mean_squared_error: 0.5250 - wine_type_accuracy: 0.9959 - val_loss: 0.3341 - val_wine_quality_loss: 0.3055 - val_wine_type_loss: 0.0280 - val_wine_quality_root_mean_squared_error: 0.5529 - val_wine_type_accuracy: 0.9949\n",
      "Epoch 120/180\n",
      "3155/3155 [==============================] - 0s 132us/sample - loss: 0.2953 - wine_quality_loss: 0.2743 - wine_type_loss: 0.0209 - wine_quality_root_mean_squared_error: 0.5237 - wine_type_accuracy: 0.9959 - val_loss: 0.3496 - val_wine_quality_loss: 0.3211 - val_wine_type_loss: 0.0279 - val_wine_quality_root_mean_squared_error: 0.5668 - val_wine_type_accuracy: 0.9949\n",
      "Epoch 121/180\n",
      "3155/3155 [==============================] - 0s 131us/sample - loss: 0.2950 - wine_quality_loss: 0.2740 - wine_type_loss: 0.0209 - wine_quality_root_mean_squared_error: 0.5235 - wine_type_accuracy: 0.9959 - val_loss: 0.3317 - val_wine_quality_loss: 0.3036 - val_wine_type_loss: 0.0278 - val_wine_quality_root_mean_squared_error: 0.5510 - val_wine_type_accuracy: 0.9949\n",
      "Epoch 122/180\n",
      "3155/3155 [==============================] - 0s 143us/sample - loss: 0.2940 - wine_quality_loss: 0.2735 - wine_type_loss: 0.0208 - wine_quality_root_mean_squared_error: 0.5226 - wine_type_accuracy: 0.9959 - val_loss: 0.3376 - val_wine_quality_loss: 0.3093 - val_wine_type_loss: 0.0276 - val_wine_quality_root_mean_squared_error: 0.5565 - val_wine_type_accuracy: 0.9949\n",
      "Epoch 123/180\n",
      "3155/3155 [==============================] - 0s 113us/sample - loss: 0.2937 - wine_quality_loss: 0.2728 - wine_type_loss: 0.0207 - wine_quality_root_mean_squared_error: 0.5225 - wine_type_accuracy: 0.9959 - val_loss: 0.3376 - val_wine_quality_loss: 0.3098 - val_wine_type_loss: 0.0277 - val_wine_quality_root_mean_squared_error: 0.5564 - val_wine_type_accuracy: 0.9949\n",
      "Epoch 124/180\n",
      "3155/3155 [==============================] - 0s 144us/sample - loss: 0.2938 - wine_quality_loss: 0.2730 - wine_type_loss: 0.0206 - wine_quality_root_mean_squared_error: 0.5226 - wine_type_accuracy: 0.9959 - val_loss: 0.3333 - val_wine_quality_loss: 0.3054 - val_wine_type_loss: 0.0278 - val_wine_quality_root_mean_squared_error: 0.5525 - val_wine_type_accuracy: 0.9949\n",
      "Epoch 125/180\n",
      "3155/3155 [==============================] - 0s 138us/sample - loss: 0.2939 - wine_quality_loss: 0.2730 - wine_type_loss: 0.0205 - wine_quality_root_mean_squared_error: 0.5228 - wine_type_accuracy: 0.9959 - val_loss: 0.3409 - val_wine_quality_loss: 0.3125 - val_wine_type_loss: 0.0278 - val_wine_quality_root_mean_squared_error: 0.5592 - val_wine_type_accuracy: 0.9949\n",
      "Epoch 126/180\n",
      "3155/3155 [==============================] - 0s 151us/sample - loss: 0.2924 - wine_quality_loss: 0.2722 - wine_type_loss: 0.0205 - wine_quality_root_mean_squared_error: 0.5214 - wine_type_accuracy: 0.9962 - val_loss: 0.3270 - val_wine_quality_loss: 0.2993 - val_wine_type_loss: 0.0277 - val_wine_quality_root_mean_squared_error: 0.5467 - val_wine_type_accuracy: 0.9949\n",
      "Epoch 127/180\n"
     ]
    },
    {
     "name": "stdout",
     "output_type": "stream",
     "text": [
      "3155/3155 [==============================] - 0s 154us/sample - loss: 0.2918 - wine_quality_loss: 0.2713 - wine_type_loss: 0.0204 - wine_quality_root_mean_squared_error: 0.5209 - wine_type_accuracy: 0.9962 - val_loss: 0.3269 - val_wine_quality_loss: 0.2990 - val_wine_type_loss: 0.0277 - val_wine_quality_root_mean_squared_error: 0.5466 - val_wine_type_accuracy: 0.9949\n",
      "Epoch 128/180\n",
      "3155/3155 [==============================] - 0s 135us/sample - loss: 0.2917 - wine_quality_loss: 0.2712 - wine_type_loss: 0.0203 - wine_quality_root_mean_squared_error: 0.5209 - wine_type_accuracy: 0.9962 - val_loss: 0.3345 - val_wine_quality_loss: 0.3066 - val_wine_type_loss: 0.0276 - val_wine_quality_root_mean_squared_error: 0.5536 - val_wine_type_accuracy: 0.9949\n",
      "Epoch 129/180\n",
      "3155/3155 [==============================] - 0s 146us/sample - loss: 0.2917 - wine_quality_loss: 0.2712 - wine_type_loss: 0.0203 - wine_quality_root_mean_squared_error: 0.5210 - wine_type_accuracy: 0.9962 - val_loss: 0.3343 - val_wine_quality_loss: 0.3062 - val_wine_type_loss: 0.0276 - val_wine_quality_root_mean_squared_error: 0.5535 - val_wine_type_accuracy: 0.9949\n",
      "Epoch 130/180\n",
      "3155/3155 [==============================] - 0s 140us/sample - loss: 0.2909 - wine_quality_loss: 0.2703 - wine_type_loss: 0.0201 - wine_quality_root_mean_squared_error: 0.5202 - wine_type_accuracy: 0.9962 - val_loss: 0.3302 - val_wine_quality_loss: 0.3023 - val_wine_type_loss: 0.0276 - val_wine_quality_root_mean_squared_error: 0.5498 - val_wine_type_accuracy: 0.9949\n",
      "Epoch 131/180\n",
      "3155/3155 [==============================] - 0s 156us/sample - loss: 0.2912 - wine_quality_loss: 0.2705 - wine_type_loss: 0.0201 - wine_quality_root_mean_squared_error: 0.5207 - wine_type_accuracy: 0.9962 - val_loss: 0.3358 - val_wine_quality_loss: 0.3081 - val_wine_type_loss: 0.0274 - val_wine_quality_root_mean_squared_error: 0.5550 - val_wine_type_accuracy: 0.9949\n",
      "Epoch 132/180\n",
      "3155/3155 [==============================] - 0s 148us/sample - loss: 0.2901 - wine_quality_loss: 0.2708 - wine_type_loss: 0.0199 - wine_quality_root_mean_squared_error: 0.5197 - wine_type_accuracy: 0.9962 - val_loss: 0.3307 - val_wine_quality_loss: 0.3031 - val_wine_type_loss: 0.0275 - val_wine_quality_root_mean_squared_error: 0.5503 - val_wine_type_accuracy: 0.9949\n",
      "Epoch 133/180\n",
      "3155/3155 [==============================] - 0s 154us/sample - loss: 0.2891 - wine_quality_loss: 0.2688 - wine_type_loss: 0.0199 - wine_quality_root_mean_squared_error: 0.5188 - wine_type_accuracy: 0.9962 - val_loss: 0.3357 - val_wine_quality_loss: 0.3078 - val_wine_type_loss: 0.0275 - val_wine_quality_root_mean_squared_error: 0.5549 - val_wine_type_accuracy: 0.9949\n",
      "Epoch 134/180\n",
      "3155/3155 [==============================] - 0s 149us/sample - loss: 0.2897 - wine_quality_loss: 0.2705 - wine_type_loss: 0.0198 - wine_quality_root_mean_squared_error: 0.5195 - wine_type_accuracy: 0.9962 - val_loss: 0.3405 - val_wine_quality_loss: 0.3126 - val_wine_type_loss: 0.0275 - val_wine_quality_root_mean_squared_error: 0.5592 - val_wine_type_accuracy: 0.9949\n",
      "Epoch 135/180\n",
      "3155/3155 [==============================] - 0s 157us/sample - loss: 0.2883 - wine_quality_loss: 0.2686 - wine_type_loss: 0.0197 - wine_quality_root_mean_squared_error: 0.5182 - wine_type_accuracy: 0.9962 - val_loss: 0.3281 - val_wine_quality_loss: 0.3003 - val_wine_type_loss: 0.0275 - val_wine_quality_root_mean_squared_error: 0.5480 - val_wine_type_accuracy: 0.9949\n",
      "Epoch 136/180\n",
      "3155/3155 [==============================] - 0s 144us/sample - loss: 0.2885 - wine_quality_loss: 0.2693 - wine_type_loss: 0.0196 - wine_quality_root_mean_squared_error: 0.5185 - wine_type_accuracy: 0.9962 - val_loss: 0.3280 - val_wine_quality_loss: 0.3005 - val_wine_type_loss: 0.0273 - val_wine_quality_root_mean_squared_error: 0.5480 - val_wine_type_accuracy: 0.9949\n",
      "Epoch 137/180\n",
      "3155/3155 [==============================] - 0s 153us/sample - loss: 0.2883 - wine_quality_loss: 0.2688 - wine_type_loss: 0.0196 - wine_quality_root_mean_squared_error: 0.5183 - wine_type_accuracy: 0.9962 - val_loss: 0.3290 - val_wine_quality_loss: 0.3016 - val_wine_type_loss: 0.0274 - val_wine_quality_root_mean_squared_error: 0.5489 - val_wine_type_accuracy: 0.9949\n",
      "Epoch 138/180\n",
      "3155/3155 [==============================] - 1s 159us/sample - loss: 0.2881 - wine_quality_loss: 0.2684 - wine_type_loss: 0.0195 - wine_quality_root_mean_squared_error: 0.5182 - wine_type_accuracy: 0.9962 - val_loss: 0.3362 - val_wine_quality_loss: 0.3086 - val_wine_type_loss: 0.0273 - val_wine_quality_root_mean_squared_error: 0.5555 - val_wine_type_accuracy: 0.9949\n",
      "Epoch 139/180\n",
      "3155/3155 [==============================] - 0s 147us/sample - loss: 0.2867 - wine_quality_loss: 0.2668 - wine_type_loss: 0.0194 - wine_quality_root_mean_squared_error: 0.5169 - wine_type_accuracy: 0.9962 - val_loss: 0.3296 - val_wine_quality_loss: 0.3023 - val_wine_type_loss: 0.0272 - val_wine_quality_root_mean_squared_error: 0.5496 - val_wine_type_accuracy: 0.9949\n",
      "Epoch 140/180\n",
      "3155/3155 [==============================] - 0s 150us/sample - loss: 0.2872 - wine_quality_loss: 0.2680 - wine_type_loss: 0.0193 - wine_quality_root_mean_squared_error: 0.5175 - wine_type_accuracy: 0.9962 - val_loss: 0.3329 - val_wine_quality_loss: 0.3053 - val_wine_type_loss: 0.0272 - val_wine_quality_root_mean_squared_error: 0.5525 - val_wine_type_accuracy: 0.9949\n",
      "Epoch 141/180\n",
      "3155/3155 [==============================] - 0s 148us/sample - loss: 0.2863 - wine_quality_loss: 0.2671 - wine_type_loss: 0.0193 - wine_quality_root_mean_squared_error: 0.5167 - wine_type_accuracy: 0.9962 - val_loss: 0.3297 - val_wine_quality_loss: 0.3027 - val_wine_type_loss: 0.0271 - val_wine_quality_root_mean_squared_error: 0.5498 - val_wine_type_accuracy: 0.9949\n",
      "Epoch 142/180\n",
      "3155/3155 [==============================] - 0s 134us/sample - loss: 0.2862 - wine_quality_loss: 0.2669 - wine_type_loss: 0.0192 - wine_quality_root_mean_squared_error: 0.5167 - wine_type_accuracy: 0.9962 - val_loss: 0.3395 - val_wine_quality_loss: 0.3119 - val_wine_type_loss: 0.0271 - val_wine_quality_root_mean_squared_error: 0.5586 - val_wine_type_accuracy: 0.9949\n",
      "Epoch 143/180\n",
      "3155/3155 [==============================] - 0s 129us/sample - loss: 0.2860 - wine_quality_loss: 0.2668 - wine_type_loss: 0.0191 - wine_quality_root_mean_squared_error: 0.5166 - wine_type_accuracy: 0.9962 - val_loss: 0.3303 - val_wine_quality_loss: 0.3030 - val_wine_type_loss: 0.0271 - val_wine_quality_root_mean_squared_error: 0.5503 - val_wine_type_accuracy: 0.9949\n",
      "Epoch 144/180\n",
      "3155/3155 [==============================] - 0s 157us/sample - loss: 0.2853 - wine_quality_loss: 0.2662 - wine_type_loss: 0.0191 - wine_quality_root_mean_squared_error: 0.5159 - wine_type_accuracy: 0.9962 - val_loss: 0.3380 - val_wine_quality_loss: 0.3105 - val_wine_type_loss: 0.0271 - val_wine_quality_root_mean_squared_error: 0.5572 - val_wine_type_accuracy: 0.9949\n",
      "Epoch 145/180\n",
      "3155/3155 [==============================] - 0s 128us/sample - loss: 0.2850 - wine_quality_loss: 0.2657 - wine_type_loss: 0.0191 - wine_quality_root_mean_squared_error: 0.5157 - wine_type_accuracy: 0.9962 - val_loss: 0.3321 - val_wine_quality_loss: 0.3049 - val_wine_type_loss: 0.0270 - val_wine_quality_root_mean_squared_error: 0.5521 - val_wine_type_accuracy: 0.9949\n",
      "Epoch 146/180\n",
      "3155/3155 [==============================] - 0s 150us/sample - loss: 0.2843 - wine_quality_loss: 0.2661 - wine_type_loss: 0.0189 - wine_quality_root_mean_squared_error: 0.5151 - wine_type_accuracy: 0.9962 - val_loss: 0.3315 - val_wine_quality_loss: 0.3043 - val_wine_type_loss: 0.0271 - val_wine_quality_root_mean_squared_error: 0.5514 - val_wine_type_accuracy: 0.9949\n",
      "Epoch 147/180\n",
      "3155/3155 [==============================] - 0s 155us/sample - loss: 0.2839 - wine_quality_loss: 0.2651 - wine_type_loss: 0.0191 - wine_quality_root_mean_squared_error: 0.5149 - wine_type_accuracy: 0.9962 - val_loss: 0.3308 - val_wine_quality_loss: 0.3036 - val_wine_type_loss: 0.0270 - val_wine_quality_root_mean_squared_error: 0.5509 - val_wine_type_accuracy: 0.9949\n",
      "Epoch 148/180\n"
     ]
    },
    {
     "name": "stdout",
     "output_type": "stream",
     "text": [
      "3155/3155 [==============================] - 0s 151us/sample - loss: 0.2826 - wine_quality_loss: 0.2640 - wine_type_loss: 0.0188 - wine_quality_root_mean_squared_error: 0.5136 - wine_type_accuracy: 0.9962 - val_loss: 0.3347 - val_wine_quality_loss: 0.3076 - val_wine_type_loss: 0.0270 - val_wine_quality_root_mean_squared_error: 0.5544 - val_wine_type_accuracy: 0.9949\n",
      "Epoch 149/180\n",
      "3155/3155 [==============================] - 0s 132us/sample - loss: 0.2835 - wine_quality_loss: 0.2645 - wine_type_loss: 0.0187 - wine_quality_root_mean_squared_error: 0.5145 - wine_type_accuracy: 0.9962 - val_loss: 0.3279 - val_wine_quality_loss: 0.3008 - val_wine_type_loss: 0.0270 - val_wine_quality_root_mean_squared_error: 0.5482 - val_wine_type_accuracy: 0.9949\n",
      "Epoch 150/180\n",
      "3155/3155 [==============================] - 0s 136us/sample - loss: 0.2823 - wine_quality_loss: 0.2638 - wine_type_loss: 0.0186 - wine_quality_root_mean_squared_error: 0.5134 - wine_type_accuracy: 0.9962 - val_loss: 0.3278 - val_wine_quality_loss: 0.3009 - val_wine_type_loss: 0.0269 - val_wine_quality_root_mean_squared_error: 0.5482 - val_wine_type_accuracy: 0.9949\n",
      "Epoch 151/180\n",
      "3155/3155 [==============================] - 1s 160us/sample - loss: 0.2825 - wine_quality_loss: 0.2633 - wine_type_loss: 0.0186 - wine_quality_root_mean_squared_error: 0.5138 - wine_type_accuracy: 0.9962 - val_loss: 0.3335 - val_wine_quality_loss: 0.3064 - val_wine_type_loss: 0.0269 - val_wine_quality_root_mean_squared_error: 0.5534 - val_wine_type_accuracy: 0.9949\n",
      "Epoch 152/180\n",
      "3155/3155 [==============================] - 0s 149us/sample - loss: 0.2815 - wine_quality_loss: 0.2634 - wine_type_loss: 0.0185 - wine_quality_root_mean_squared_error: 0.5128 - wine_type_accuracy: 0.9962 - val_loss: 0.3244 - val_wine_quality_loss: 0.2975 - val_wine_type_loss: 0.0268 - val_wine_quality_root_mean_squared_error: 0.5452 - val_wine_type_accuracy: 0.9949\n",
      "Epoch 153/180\n",
      "3155/3155 [==============================] - 0s 155us/sample - loss: 0.2820 - wine_quality_loss: 0.2644 - wine_type_loss: 0.0184 - wine_quality_root_mean_squared_error: 0.5134 - wine_type_accuracy: 0.9962 - val_loss: 0.3273 - val_wine_quality_loss: 0.2999 - val_wine_type_loss: 0.0270 - val_wine_quality_root_mean_squared_error: 0.5477 - val_wine_type_accuracy: 0.9949\n",
      "Epoch 154/180\n",
      "3155/3155 [==============================] - 0s 130us/sample - loss: 0.2810 - wine_quality_loss: 0.2629 - wine_type_loss: 0.0183 - wine_quality_root_mean_squared_error: 0.5124 - wine_type_accuracy: 0.9962 - val_loss: 0.3302 - val_wine_quality_loss: 0.3030 - val_wine_type_loss: 0.0270 - val_wine_quality_root_mean_squared_error: 0.5503 - val_wine_type_accuracy: 0.9949\n",
      "Epoch 155/180\n",
      "3155/3155 [==============================] - 0s 132us/sample - loss: 0.2819 - wine_quality_loss: 0.2635 - wine_type_loss: 0.0183 - wine_quality_root_mean_squared_error: 0.5134 - wine_type_accuracy: 0.9962 - val_loss: 0.3376 - val_wine_quality_loss: 0.3104 - val_wine_type_loss: 0.0269 - val_wine_quality_root_mean_squared_error: 0.5571 - val_wine_type_accuracy: 0.9949\n",
      "Epoch 156/180\n",
      "3155/3155 [==============================] - 0s 146us/sample - loss: 0.2809 - wine_quality_loss: 0.2626 - wine_type_loss: 0.0182 - wine_quality_root_mean_squared_error: 0.5125 - wine_type_accuracy: 0.9962 - val_loss: 0.3245 - val_wine_quality_loss: 0.2977 - val_wine_type_loss: 0.0268 - val_wine_quality_root_mean_squared_error: 0.5453 - val_wine_type_accuracy: 0.9949\n",
      "Epoch 157/180\n",
      "3155/3155 [==============================] - 0s 142us/sample - loss: 0.2802 - wine_quality_loss: 0.2614 - wine_type_loss: 0.0181 - wine_quality_root_mean_squared_error: 0.5119 - wine_type_accuracy: 0.9962 - val_loss: 0.3294 - val_wine_quality_loss: 0.3025 - val_wine_type_loss: 0.0269 - val_wine_quality_root_mean_squared_error: 0.5497 - val_wine_type_accuracy: 0.9949\n",
      "Epoch 158/180\n",
      "3155/3155 [==============================] - 0s 150us/sample - loss: 0.2800 - wine_quality_loss: 0.2618 - wine_type_loss: 0.0181 - wine_quality_root_mean_squared_error: 0.5118 - wine_type_accuracy: 0.9962 - val_loss: 0.3295 - val_wine_quality_loss: 0.3025 - val_wine_type_loss: 0.0269 - val_wine_quality_root_mean_squared_error: 0.5498 - val_wine_type_accuracy: 0.9949\n",
      "Epoch 159/180\n",
      "3155/3155 [==============================] - 0s 152us/sample - loss: 0.2795 - wine_quality_loss: 0.2609 - wine_type_loss: 0.0180 - wine_quality_root_mean_squared_error: 0.5113 - wine_type_accuracy: 0.9962 - val_loss: 0.3320 - val_wine_quality_loss: 0.3050 - val_wine_type_loss: 0.0269 - val_wine_quality_root_mean_squared_error: 0.5520 - val_wine_type_accuracy: 0.9949\n",
      "Epoch 160/180\n",
      "3155/3155 [==============================] - 0s 140us/sample - loss: 0.2791 - wine_quality_loss: 0.2611 - wine_type_loss: 0.0179 - wine_quality_root_mean_squared_error: 0.5110 - wine_type_accuracy: 0.9962 - val_loss: 0.3338 - val_wine_quality_loss: 0.3072 - val_wine_type_loss: 0.0267 - val_wine_quality_root_mean_squared_error: 0.5539 - val_wine_type_accuracy: 0.9949\n",
      "Epoch 161/180\n",
      "3155/3155 [==============================] - 0s 147us/sample - loss: 0.2792 - wine_quality_loss: 0.2611 - wine_type_loss: 0.0179 - wine_quality_root_mean_squared_error: 0.5112 - wine_type_accuracy: 0.9962 - val_loss: 0.3264 - val_wine_quality_loss: 0.2995 - val_wine_type_loss: 0.0268 - val_wine_quality_root_mean_squared_error: 0.5471 - val_wine_type_accuracy: 0.9949\n",
      "Epoch 162/180\n",
      "3155/3155 [==============================] - 0s 149us/sample - loss: 0.2782 - wine_quality_loss: 0.2608 - wine_type_loss: 0.0178 - wine_quality_root_mean_squared_error: 0.5102 - wine_type_accuracy: 0.9962 - val_loss: 0.3339 - val_wine_quality_loss: 0.3070 - val_wine_type_loss: 0.0268 - val_wine_quality_root_mean_squared_error: 0.5539 - val_wine_type_accuracy: 0.9949\n",
      "Epoch 163/180\n",
      "3155/3155 [==============================] - 0s 136us/sample - loss: 0.2776 - wine_quality_loss: 0.2595 - wine_type_loss: 0.0177 - wine_quality_root_mean_squared_error: 0.5097 - wine_type_accuracy: 0.9962 - val_loss: 0.3345 - val_wine_quality_loss: 0.3075 - val_wine_type_loss: 0.0267 - val_wine_quality_root_mean_squared_error: 0.5545 - val_wine_type_accuracy: 0.9949\n",
      "Epoch 164/180\n",
      "3155/3155 [==============================] - 0s 157us/sample - loss: 0.2773 - wine_quality_loss: 0.2595 - wine_type_loss: 0.0177 - wine_quality_root_mean_squared_error: 0.5095 - wine_type_accuracy: 0.9962 - val_loss: 0.3458 - val_wine_quality_loss: 0.3189 - val_wine_type_loss: 0.0267 - val_wine_quality_root_mean_squared_error: 0.5645 - val_wine_type_accuracy: 0.9949\n",
      "Epoch 165/180\n",
      "3155/3155 [==============================] - 0s 153us/sample - loss: 0.2770 - wine_quality_loss: 0.2592 - wine_type_loss: 0.0176 - wine_quality_root_mean_squared_error: 0.5092 - wine_type_accuracy: 0.9962 - val_loss: 0.3268 - val_wine_quality_loss: 0.3002 - val_wine_type_loss: 0.0267 - val_wine_quality_root_mean_squared_error: 0.5476 - val_wine_type_accuracy: 0.9949\n",
      "Epoch 166/180\n",
      "3155/3155 [==============================] - 0s 143us/sample - loss: 0.2767 - wine_quality_loss: 0.2597 - wine_type_loss: 0.0175 - wine_quality_root_mean_squared_error: 0.5090 - wine_type_accuracy: 0.9962 - val_loss: 0.3287 - val_wine_quality_loss: 0.3021 - val_wine_type_loss: 0.0266 - val_wine_quality_root_mean_squared_error: 0.5493 - val_wine_type_accuracy: 0.9949\n",
      "Epoch 167/180\n",
      "3155/3155 [==============================] - 0s 151us/sample - loss: 0.2765 - wine_quality_loss: 0.2589 - wine_type_loss: 0.0175 - wine_quality_root_mean_squared_error: 0.5088 - wine_type_accuracy: 0.9962 - val_loss: 0.3275 - val_wine_quality_loss: 0.3008 - val_wine_type_loss: 0.0266 - val_wine_quality_root_mean_squared_error: 0.5482 - val_wine_type_accuracy: 0.9949\n",
      "Epoch 168/180\n",
      "3155/3155 [==============================] - 0s 152us/sample - loss: 0.2764 - wine_quality_loss: 0.2590 - wine_type_loss: 0.0174 - wine_quality_root_mean_squared_error: 0.5088 - wine_type_accuracy: 0.9962 - val_loss: 0.3301 - val_wine_quality_loss: 0.3034 - val_wine_type_loss: 0.0265 - val_wine_quality_root_mean_squared_error: 0.5506 - val_wine_type_accuracy: 0.9949\n",
      "Epoch 169/180\n"
     ]
    },
    {
     "name": "stdout",
     "output_type": "stream",
     "text": [
      "3155/3155 [==============================] - 0s 153us/sample - loss: 0.2748 - wine_quality_loss: 0.2575 - wine_type_loss: 0.0173 - wine_quality_root_mean_squared_error: 0.5074 - wine_type_accuracy: 0.9962 - val_loss: 0.3296 - val_wine_quality_loss: 0.3030 - val_wine_type_loss: 0.0266 - val_wine_quality_root_mean_squared_error: 0.5501 - val_wine_type_accuracy: 0.9949\n",
      "Epoch 170/180\n",
      "3155/3155 [==============================] - 0s 148us/sample - loss: 0.2761 - wine_quality_loss: 0.2587 - wine_type_loss: 0.0173 - wine_quality_root_mean_squared_error: 0.5087 - wine_type_accuracy: 0.9962 - val_loss: 0.3320 - val_wine_quality_loss: 0.3054 - val_wine_type_loss: 0.0265 - val_wine_quality_root_mean_squared_error: 0.5524 - val_wine_type_accuracy: 0.9949\n",
      "Epoch 171/180\n",
      "3155/3155 [==============================] - 0s 150us/sample - loss: 0.2750 - wine_quality_loss: 0.2577 - wine_type_loss: 0.0172 - wine_quality_root_mean_squared_error: 0.5077 - wine_type_accuracy: 0.9962 - val_loss: 0.3368 - val_wine_quality_loss: 0.3101 - val_wine_type_loss: 0.0266 - val_wine_quality_root_mean_squared_error: 0.5566 - val_wine_type_accuracy: 0.9949\n",
      "Epoch 172/180\n",
      "3155/3155 [==============================] - 0s 155us/sample - loss: 0.2746 - wine_quality_loss: 0.2576 - wine_type_loss: 0.0171 - wine_quality_root_mean_squared_error: 0.5074 - wine_type_accuracy: 0.9962 - val_loss: 0.3266 - val_wine_quality_loss: 0.3001 - val_wine_type_loss: 0.0265 - val_wine_quality_root_mean_squared_error: 0.5475 - val_wine_type_accuracy: 0.9949\n",
      "Epoch 173/180\n",
      "3155/3155 [==============================] - 1s 172us/sample - loss: 0.2741 - wine_quality_loss: 0.2569 - wine_type_loss: 0.0171 - wine_quality_root_mean_squared_error: 0.5069 - wine_type_accuracy: 0.9962 - val_loss: 0.3405 - val_wine_quality_loss: 0.3135 - val_wine_type_loss: 0.0266 - val_wine_quality_root_mean_squared_error: 0.5600 - val_wine_type_accuracy: 0.9949\n",
      "Epoch 174/180\n",
      "3155/3155 [==============================] - 0s 140us/sample - loss: 0.2739 - wine_quality_loss: 0.2567 - wine_type_loss: 0.0174 - wine_quality_root_mean_squared_error: 0.5068 - wine_type_accuracy: 0.9962 - val_loss: 0.3365 - val_wine_quality_loss: 0.3100 - val_wine_type_loss: 0.0265 - val_wine_quality_root_mean_squared_error: 0.5565 - val_wine_type_accuracy: 0.9949\n",
      "Epoch 175/180\n",
      "3155/3155 [==============================] - 0s 148us/sample - loss: 0.2733 - wine_quality_loss: 0.2562 - wine_type_loss: 0.0169 - wine_quality_root_mean_squared_error: 0.5063 - wine_type_accuracy: 0.9962 - val_loss: 0.3270 - val_wine_quality_loss: 0.3002 - val_wine_type_loss: 0.0266 - val_wine_quality_root_mean_squared_error: 0.5478 - val_wine_type_accuracy: 0.9949\n",
      "Epoch 176/180\n",
      "3155/3155 [==============================] - 0s 152us/sample - loss: 0.2737 - wine_quality_loss: 0.2563 - wine_type_loss: 0.0169 - wine_quality_root_mean_squared_error: 0.5067 - wine_type_accuracy: 0.9962 - val_loss: 0.3345 - val_wine_quality_loss: 0.3077 - val_wine_type_loss: 0.0265 - val_wine_quality_root_mean_squared_error: 0.5547 - val_wine_type_accuracy: 0.9949\n",
      "Epoch 177/180\n",
      "3155/3155 [==============================] - 0s 140us/sample - loss: 0.2727 - wine_quality_loss: 0.2559 - wine_type_loss: 0.0168 - wine_quality_root_mean_squared_error: 0.5058 - wine_type_accuracy: 0.9962 - val_loss: 0.3391 - val_wine_quality_loss: 0.3129 - val_wine_type_loss: 0.0264 - val_wine_quality_root_mean_squared_error: 0.5588 - val_wine_type_accuracy: 0.9949\n",
      "Epoch 178/180\n",
      "3155/3155 [==============================] - 0s 156us/sample - loss: 0.2719 - wine_quality_loss: 0.2548 - wine_type_loss: 0.0171 - wine_quality_root_mean_squared_error: 0.5051 - wine_type_accuracy: 0.9962 - val_loss: 0.3315 - val_wine_quality_loss: 0.3050 - val_wine_type_loss: 0.0265 - val_wine_quality_root_mean_squared_error: 0.5520 - val_wine_type_accuracy: 0.9949\n",
      "Epoch 179/180\n",
      "3155/3155 [==============================] - 0s 154us/sample - loss: 0.2720 - wine_quality_loss: 0.2558 - wine_type_loss: 0.0167 - wine_quality_root_mean_squared_error: 0.5052 - wine_type_accuracy: 0.9962 - val_loss: 0.3433 - val_wine_quality_loss: 0.3166 - val_wine_type_loss: 0.0264 - val_wine_quality_root_mean_squared_error: 0.5626 - val_wine_type_accuracy: 0.9949\n",
      "Epoch 180/180\n",
      "3155/3155 [==============================] - 0s 139us/sample - loss: 0.2719 - wine_quality_loss: 0.2553 - wine_type_loss: 0.0166 - wine_quality_root_mean_squared_error: 0.5052 - wine_type_accuracy: 0.9962 - val_loss: 0.3365 - val_wine_quality_loss: 0.3100 - val_wine_type_loss: 0.0265 - val_wine_quality_root_mean_squared_error: 0.5565 - val_wine_type_accuracy: 0.9949\n"
     ]
    }
   ],
   "source": [
    "# Please uncomment all lines in this cell and replace those marked with `# YOUR CODE HERE`.\n",
    "# You can select all lines in this code cell with Ctrl+A (Windows/Linux) or Cmd+A (Mac), then press Ctrl+/ (Windows/Linux) or Cmd+/ (Mac) to uncomment.\n",
    "\n",
    "\n",
    "\n",
    "history = model.fit(norm_train_X, train_Y,\n",
    "                    epochs = 180, validation_data=(norm_val_X, val_Y))"
   ]
  },
  {
   "cell_type": "code",
   "execution_count": 34,
   "metadata": {
    "deletable": false,
    "editable": false,
    "nbgrader": {
     "cell_type": "code",
     "checksum": "fadad8896eda9c8c2115970724b15508",
     "grade": true,
     "grade_id": "cell-eb4d5b41bef8f0ab",
     "locked": true,
     "points": 1,
     "schema_version": 3,
     "solution": false,
     "task": false
    }
   },
   "outputs": [
    {
     "name": "stdout",
     "output_type": "stream",
     "text": [
      "\u001b[92m All public tests passed\n"
     ]
    }
   ],
   "source": [
    "utils.test_history(history)"
   ]
  },
  {
   "cell_type": "code",
   "execution_count": 35,
   "metadata": {
    "colab": {},
    "colab_type": "code",
    "id": "CubF2J2gSf6q"
   },
   "outputs": [
    {
     "name": "stdout",
     "output_type": "stream",
     "text": [
      "789/789 [==============================] - 0s 72us/sample - loss: 0.3365 - wine_quality_loss: 0.3100 - wine_type_loss: 0.0265 - wine_quality_root_mean_squared_error: 0.5565 - wine_type_accuracy: 0.9949\n",
      "\n",
      "loss: 0.3365473885877655\n",
      "wine_quality_loss: 0.30997347831726074\n",
      "wine_type_loss: 0.026481254026293755\n",
      "wine_quality_rmse: 0.5565282702445984\n",
      "wine_type_accuracy: 0.9949302673339844\n"
     ]
    }
   ],
   "source": [
    "# Gather the training metrics\n",
    "loss, wine_quality_loss, wine_type_loss, wine_quality_rmse, wine_type_accuracy = model.evaluate(x=norm_val_X, y=val_Y)\n",
    "\n",
    "print()\n",
    "print(f'loss: {loss}')\n",
    "print(f'wine_quality_loss: {wine_quality_loss}')\n",
    "print(f'wine_type_loss: {wine_type_loss}')\n",
    "print(f'wine_quality_rmse: {wine_quality_rmse}')\n",
    "print(f'wine_type_accuracy: {wine_type_accuracy}')\n",
    "\n",
    "# EXPECTED VALUES\n",
    "# ~ 0.30 - 0.38\n",
    "# ~ 0.30 - 0.38\n",
    "# ~ 0.018 - 0.036\n",
    "# ~ 0.50 - 0.62\n",
    "# ~ 0.97 - 1.0\n",
    "\n",
    "# Example:\n",
    "#0.3657050132751465\n",
    "#0.3463745415210724\n",
    "#0.019330406561493874\n",
    "#0.5885359048843384\n",
    "#0.9974651336669922"
   ]
  },
  {
   "cell_type": "markdown",
   "metadata": {
    "colab_type": "text",
    "id": "gPtTGAP4usnm"
   },
   "source": [
    "## Analyze the Model Performance\n",
    "\n",
    "Note that the model has two outputs. The output at index 0 is quality and index 1 is wine type\n",
    "\n",
    "So, round the quality predictions to the nearest integer."
   ]
  },
  {
   "cell_type": "code",
   "execution_count": 36,
   "metadata": {
    "colab": {},
    "colab_type": "code",
    "id": "tBq9PEeAaW-Y"
   },
   "outputs": [],
   "source": [
    "predictions = model.predict(norm_test_X)\n",
    "quality_pred = predictions[0]\n",
    "type_pred = predictions[1]"
   ]
  },
  {
   "cell_type": "code",
   "execution_count": 37,
   "metadata": {
    "colab": {},
    "colab_type": "code",
    "id": "YLhgTR4xTIxj"
   },
   "outputs": [
    {
     "name": "stdout",
     "output_type": "stream",
     "text": [
      "[5.683283]\n"
     ]
    }
   ],
   "source": [
    "print(quality_pred[0])\n",
    "\n",
    "# EXPECTED OUTPUT\n",
    "# 5.4 - 6.0"
   ]
  },
  {
   "cell_type": "code",
   "execution_count": 38,
   "metadata": {
    "colab": {},
    "colab_type": "code",
    "id": "MPi-eYfGTUXi"
   },
   "outputs": [
    {
     "name": "stdout",
     "output_type": "stream",
     "text": [
      "[0.00028526]\n",
      "[0.9999907]\n"
     ]
    }
   ],
   "source": [
    "print(type_pred[0])\n",
    "print(type_pred[944])\n",
    "\n",
    "# EXPECTED OUTPUT\n",
    "# A number close to zero\n",
    "# A number close to or equal to 1"
   ]
  },
  {
   "cell_type": "markdown",
   "metadata": {
    "colab_type": "text",
    "id": "Kohk-9C6vt_s"
   },
   "source": [
    "### Plot Utilities\n",
    "\n",
    "We define a few utilities to visualize the model performance."
   ]
  },
  {
   "cell_type": "code",
   "execution_count": 39,
   "metadata": {
    "colab": {},
    "colab_type": "code",
    "id": "62gEOFUhn6aQ"
   },
   "outputs": [],
   "source": [
    "def plot_metrics(metric_name, title, ylim=5):\n",
    "    plt.title(title)\n",
    "    plt.ylim(0,ylim)\n",
    "    plt.plot(history.history[metric_name],color='blue',label=metric_name)\n",
    "    plt.plot(history.history['val_' + metric_name],color='green',label='val_' + metric_name)\n"
   ]
  },
  {
   "cell_type": "code",
   "execution_count": 40,
   "metadata": {
    "colab": {},
    "colab_type": "code",
    "id": "6rfgSx7uz5dj"
   },
   "outputs": [],
   "source": [
    "def plot_confusion_matrix(y_true, y_pred, title='', labels=[0,1]):\n",
    "    cm = confusion_matrix(test_Y[1], np.round(type_pred), labels=[0, 1])\n",
    "    disp = ConfusionMatrixDisplay(confusion_matrix=cm,\n",
    "                                  display_labels=[0, 1])\n",
    "    disp.plot(values_format='d');"
   ]
  },
  {
   "cell_type": "code",
   "execution_count": 41,
   "metadata": {
    "colab": {},
    "colab_type": "code",
    "id": "dfVLIqi017Vf"
   },
   "outputs": [],
   "source": [
    "def plot_diff(y_true, y_pred, title = '' ):\n",
    "    plt.scatter(y_true, y_pred)\n",
    "    plt.title(title)\n",
    "    plt.xlabel('True Values')\n",
    "    plt.ylabel('Predictions')\n",
    "    plt.axis('equal')\n",
    "    plt.axis('square')\n",
    "    plt.plot([-100, 100], [-100, 100])\n",
    "    return plt"
   ]
  },
  {
   "cell_type": "markdown",
   "metadata": {
    "colab_type": "text",
    "id": "8sd1jdFbwE0I"
   },
   "source": [
    "### Plots for Metrics"
   ]
  },
  {
   "cell_type": "code",
   "execution_count": 42,
   "metadata": {
    "colab": {},
    "colab_type": "code",
    "id": "f3MwZ5J1pOfj"
   },
   "outputs": [
    {
     "data": {
      "image/png": "[encoded data removed]",
      "text/plain": [
       "<Figure size 432x288 with 1 Axes>"
      ]
     },
     "metadata": {
      "needs_background": "light"
     },
     "output_type": "display_data"
    }
   ],
   "source": [
    "plot_metrics('wine_quality_root_mean_squared_error', 'RMSE', ylim=2)"
   ]
  },
  {
   "cell_type": "code",
   "execution_count": 43,
   "metadata": {
    "colab": {},
    "colab_type": "code",
    "id": "QIAxEezCppnd"
   },
   "outputs": [
    {
     "data": {
      "image/png": "[encoded data removed]",
      "text/plain": [
       "<Figure size 432x288 with 1 Axes>"
      ]
     },
     "metadata": {
      "needs_background": "light"
     },
     "output_type": "display_data"
    }
   ],
   "source": [
    "plot_metrics('wine_type_loss', 'Wine Type Loss', ylim=0.2)"
   ]
  },
  {
   "cell_type": "markdown",
   "metadata": {
    "colab_type": "text",
    "id": "uYV9AOAMwI9p"
   },
   "source": [
    "### Plots for Confusion Matrix\n",
    "\n",
    "Plot the confusion matrices for wine type. You can see that the model performs well for prediction of wine type from the confusion matrix and the loss metrics."
   ]
  },
  {
   "cell_type": "code",
   "execution_count": 44,
   "metadata": {
    "colab": {},
    "colab_type": "code",
    "id": "C3hvTYxIaf3n"
   },
   "outputs": [
    {
     "data": {
      "image/png": "[encoded data removed]",
      "text/plain": [
       "<Figure size 432x288 with 2 Axes>"
      ]
     },
     "metadata": {
      "needs_background": "light"
     },
     "output_type": "display_data"
    }
   ],
   "source": [
    "plot_confusion_matrix(test_Y[1], np.round(type_pred), title='Wine Type', labels = [0, 1])"
   ]
  },
  {
   "cell_type": "code",
   "execution_count": 45,
   "metadata": {
    "colab": {},
    "colab_type": "code",
    "id": "GW91ym8P2I5y"
   },
   "outputs": [
    {
     "data": {
      "image/png": "[encoded data removed]",
      "text/plain": [
       "<Figure size 432x288 with 1 Axes>"
      ]
     },
     "metadata": {
      "needs_background": "light"
     },
     "output_type": "display_data"
    }
   ],
   "source": [
    "scatter_plot = plot_diff(test_Y[0], quality_pred, title='Type')"
   ]
  }
 ],
 "metadata": {
  "colab": {
   "include_colab_link": true,
   "name": "exercise-answer.ipynb",
   "provenance": []
  },
  "kernelspec": {
   "display_name": "Python 3",
   "language": "python",
   "name": "python3"
  },
  "language_info": {
   "codemirror_mode": {
    "name": "ipython",
    "version": 3
   },
   "file_extension": ".py",
   "mimetype": "text/x-python",
   "name": "python",
   "nbconvert_exporter": "python",
   "pygments_lexer": "ipython3",
   "version": "3.7.6"
  }
 },
 "nbformat": 4,
 "nbformat_minor": 4
}
